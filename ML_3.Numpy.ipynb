{
 "cells": [
  {
   "cell_type": "markdown",
   "metadata": {},
   "source": [
    "# Numpy\n",
    "\n",
    "Numerical Python\n",
    "\n",
    "파이썬의 고성능 과학 계산용 패키지\n",
    "\n",
    "Matrix와 Vector와 같은 Array 연산의 표준\n",
    "\n",
    "### 장점\n",
    "1. 일반 List에 비해 빠르고, 메모리 효율적\n",
    "2. 반복문 없이 데이터 배열에 대한 처리를 지원함\n",
    "3. 선형대수와 관련된 다양한 기능을 제공함\n",
    "4. C, C++, 포트란 등의 언어와 통합 가능\n",
    "\n",
    "## 3.0 Numpy Install\n",
    "\n",
    "생략\n",
    "\n",
    "## 3.1 ndarry\n",
    "\n",
    "넘파이는 C의 Arrary를 사용하여 배열을 생성하기 때문에 List와 Dynamic typing 을 지원하지 않는다.\n",
    "\n",
    "파이썬 코드로는 np.arrary함수를 이용하여 배열을 생성하는데 이것을 ndarray라고 한다\n",
    "\n",
    "numpy는 하나의 데이터 타입(float, int, string 등)만 배열에 넣을 수 있다.\n",
    "\n",
    "\n",
    "넘파이 호출하고 하나 만들어보자"
   ]
  },
  {
   "cell_type": "code",
   "execution_count": 5,
   "metadata": {
    "scrolled": true
   },
   "outputs": [
    {
     "name": "stdout",
     "output_type": "stream",
     "text": [
      "[ 1.  4.  5.  8.]\n"
     ]
    }
   ],
   "source": [
    "import numpy as np\n",
    "\n",
    "test_array=np.array([\"1\",\"4\",5,8],float)\n",
    "print(test_array)"
   ]
  },
  {
   "cell_type": "markdown",
   "metadata": {},
   "source": [
    "중간에 str타입이 있음애도 불구하고, float 설정해주니 전부 소수점 찍혀서 나온다."
   ]
  },
  {
   "cell_type": "code",
   "execution_count": 4,
   "metadata": {},
   "outputs": [
    {
     "data": {
      "text/plain": [
       "numpy.float64"
      ]
     },
     "execution_count": 4,
     "metadata": {},
     "output_type": "execute_result"
    }
   ],
   "source": [
    "type(test_array[3])"
   ]
  },
  {
   "cell_type": "markdown",
   "metadata": {},
   "source": [
    "float type으로 자동 형변환을 했다.\n",
    "\n",
    "여기서 64는 64비트를 의미한다"
   ]
  },
  {
   "cell_type": "code",
   "execution_count": 6,
   "metadata": {},
   "outputs": [
    {
     "data": {
      "text/plain": [
       "dtype('float64')"
      ]
     },
     "execution_count": 6,
     "metadata": {},
     "output_type": "execute_result"
    }
   ],
   "source": [
    "test_array.dtype"
   ]
  },
  {
   "cell_type": "markdown",
   "metadata": {},
   "source": [
    "dtype은 Array(배열) 전체의 데이터 Type을 반환한다."
   ]
  },
  {
   "cell_type": "code",
   "execution_count": 7,
   "metadata": {},
   "outputs": [
    {
     "data": {
      "text/plain": [
       "(4,)"
      ]
     },
     "execution_count": 7,
     "metadata": {},
     "output_type": "execute_result"
    }
   ],
   "source": [
    "test_array.shape"
   ]
  },
  {
   "cell_type": "markdown",
   "metadata": {},
   "source": [
    "### shpae는 Array(배열) 의 shape을 반환함\n",
    "\n",
    "vercotr는 tuple의 형태로 type을 갖는다."
   ]
  },
  {
   "cell_type": "code",
   "execution_count": 15,
   "metadata": {},
   "outputs": [
    {
     "data": {
      "text/plain": [
       "(4,)"
      ]
     },
     "execution_count": 15,
     "metadata": {},
     "output_type": "execute_result"
    }
   ],
   "source": [
    "vector  = [1,2,3,4]\n",
    "np.array(vector, int).shape"
   ]
  },
  {
   "cell_type": "markdown",
   "metadata": {},
   "source": [
    "(4,)는 원소가 4개 있다는 것이다.\n",
    "\n",
    "matrix는 마찬가지로 tuple형태이며 2차원이다."
   ]
  },
  {
   "cell_type": "code",
   "execution_count": 16,
   "metadata": {},
   "outputs": [
    {
     "data": {
      "text/plain": [
       "(3, 4)"
      ]
     },
     "execution_count": 16,
     "metadata": {},
     "output_type": "execute_result"
    }
   ],
   "source": [
    "matrix  = [[1,2,5,8],[1,2,5,8],[1,2,5,8]]\n",
    "np.array(matrix, int).shape"
   ]
  },
  {
   "cell_type": "markdown",
   "metadata": {},
   "source": [
    "3차원이상부터는 Tensor라고 부른다."
   ]
  },
  {
   "cell_type": "code",
   "execution_count": 17,
   "metadata": {},
   "outputs": [
    {
     "data": {
      "text/plain": [
       "(4, 3, 4)"
      ]
     },
     "execution_count": 17,
     "metadata": {},
     "output_type": "execute_result"
    }
   ],
   "source": [
    "tensor  = [[[1,2,5,8],[1,2,5,8],[1,2,5,8]], \n",
    "           [[1,2,5,8],[1,2,5,8],[1,2,5,8]], \n",
    "           [[1,2,5,8],[1,2,5,8],[1,2,5,8]], \n",
    "           [[1,2,5,8],[1,2,5,8],[1,2,5,8]]]\n",
    "np.array(tensor, int).shape"
   ]
  },
  {
   "cell_type": "markdown",
   "metadata": {},
   "source": [
    "3 * 4 가 4개 있다.\n",
    "\n",
    "ndim은 number of dimension의 줄인말로 몇차원으로 구성되었는지 알려준다.\n",
    "\n"
   ]
  },
  {
   "cell_type": "code",
   "execution_count": 11,
   "metadata": {},
   "outputs": [
    {
     "data": {
      "text/plain": [
       "3"
      ]
     },
     "execution_count": 11,
     "metadata": {},
     "output_type": "execute_result"
    }
   ],
   "source": [
    "np.array(tensor, int).ndim"
   ]
  },
  {
   "cell_type": "markdown",
   "metadata": {},
   "source": [
    "Tensor는 3차원으로 구성되어 있다.\n",
    "\n",
    "size는 데이터의 갯수를 반환한다."
   ]
  },
  {
   "cell_type": "code",
   "execution_count": 12,
   "metadata": {},
   "outputs": [
    {
     "data": {
      "text/plain": [
       "48"
      ]
     },
     "execution_count": 12,
     "metadata": {},
     "output_type": "execute_result"
    }
   ],
   "source": [
    "np.array(tensor, int).size"
   ]
  },
  {
   "cell_type": "markdown",
   "metadata": {},
   "source": [
    "Tensor는 12개씩 4개 있어서 48을 반환한다."
   ]
  },
  {
   "cell_type": "markdown",
   "metadata": {},
   "source": [
    "### Array dtype\n",
    "\n",
    "Ndarray의 single element가 가지는 data type\n",
    "\n",
    "각 원소(element)가 차지하는 memory의 크기가 결정됨\n",
    "\n",
    "npytes - ndarray object의 메모리 크기를 반환함"
   ]
  },
  {
   "cell_type": "code",
   "execution_count": 19,
   "metadata": {},
   "outputs": [
    {
     "data": {
      "text/plain": [
       "24"
      ]
     },
     "execution_count": 19,
     "metadata": {},
     "output_type": "execute_result"
    }
   ],
   "source": [
    "np.array([[1, 2, 3], [4.5, \"5\", \"6\"]], dtype=np.float32).nbytes"
   ]
  },
  {
   "cell_type": "markdown",
   "metadata": {},
   "source": [
    "32비트 = 4바이트, 6개이므로 24바이트를 출력"
   ]
  },
  {
   "cell_type": "code",
   "execution_count": 20,
   "metadata": {},
   "outputs": [
    {
     "data": {
      "text/plain": [
       "6"
      ]
     },
     "execution_count": 20,
     "metadata": {},
     "output_type": "execute_result"
    }
   ],
   "source": [
    "np.array([[1, 2, 3], [4.5, \"5\", \"6\"]], dtype=np.int8).nbytes"
   ]
  },
  {
   "cell_type": "markdown",
   "metadata": {},
   "source": [
    "8비트 = 1바이트이므로 6개면 6바이트를 출력"
   ]
  },
  {
   "cell_type": "code",
   "execution_count": 21,
   "metadata": {},
   "outputs": [
    {
     "data": {
      "text/plain": [
       "48"
      ]
     },
     "execution_count": 21,
     "metadata": {},
     "output_type": "execute_result"
    }
   ],
   "source": [
    "np.array([[1, 2, 3], [4.5, \"5\", \"6\"]], dtype=np.float64).nbytes"
   ]
  },
  {
   "cell_type": "markdown",
   "metadata": {},
   "source": [
    "64비트=8바이트, 6개이므로 총 48바이트"
   ]
  }
 ],
 "metadata": {
  "kernelspec": {
   "display_name": "Python 3",
   "language": "python",
   "name": "python3"
  },
  "language_info": {
   "codemirror_mode": {
    "name": "ipython",
    "version": 3
   },
   "file_extension": ".py",
   "mimetype": "text/x-python",
   "name": "python",
   "nbconvert_exporter": "python",
   "pygments_lexer": "ipython3",
   "version": "3.6.3"
  }
 },
 "nbformat": 4,
 "nbformat_minor": 2
}
