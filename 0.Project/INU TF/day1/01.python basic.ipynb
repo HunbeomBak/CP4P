{
 "cells": [
  {
   "cell_type": "code",
   "execution_count": 6,
   "metadata": {
    "collapsed": true
   },
   "outputs": [],
   "source": [
    "import tensorflow as tf\n"
   ]
  },
  {
   "cell_type": "code",
   "execution_count": 9,
   "metadata": {},
   "outputs": [
    {
     "name": "stdout",
     "output_type": "stream",
     "text": [
      "[ 52.]\n"
     ]
    }
   ],
   "source": [
    "a= tf.constant([5],dtype=tf.float32)\n",
    "b = tf.constant([10], dtype=tf.float32)\n",
    "c= tf.constant([2],dtype=tf.float32)\n",
    "\n",
    "d= a*b+c\n",
    "\n",
    "sess= tf.Session()\n",
    "\n",
    "r=sess.run(d)\n",
    "\n",
    "print(r)"
   ]
  },
  {
   "cell_type": "code",
   "execution_count": 11,
   "metadata": {},
   "outputs": [
    {
     "name": "stdout",
     "output_type": "stream",
     "text": [
      "[  2.   4.   6.   8.  10.]\n"
     ]
    }
   ],
   "source": [
    "input_data =[1,2,3,4,5]\n",
    "\n",
    "x= tf.placeholder(dtype=tf.float32)\n",
    "W= tf.Variable([2],dtype=tf.float32)\n",
    "\n",
    "y= W*x\n",
    "\n",
    "sess = tf.Session()\n",
    "sess.run(tf.global_variables_initializer())\n",
    "\n",
    "result = sess.run(y, feed_dict={x:input_data})\n",
    "\n",
    "print(result)"
   ]
  },
  {
   "cell_type": "code",
   "execution_count": 15,
   "metadata": {},
   "outputs": [
    {
     "name": "stdout",
     "output_type": "stream",
     "text": [
      "[[ 12.]\n",
      " [ 12.]\n",
      " [ 18.]]\n"
     ]
    }
   ],
   "source": [
    "input_data = [[1.,2.,3.],[1.,2.,3.],[2.,3.,4.]]\n",
    "\n",
    "x= tf.placeholder(dtype=tf.float32, shape=[None,3])\n",
    "\n",
    "w= tf.Variable([[2.],[2.],[2.]],dtype=tf.float32)\n",
    "\n",
    "y= tf.matmul(x,w)\n",
    "\n",
    "sess= tf.Session()\n",
    "\n",
    "sess.run(tf.global_variables_initializer())\n",
    "\n",
    "result = sess.run(y, feed_dict={x:input_data})\n",
    "\n",
    "print(result)"
   ]
  },
  {
   "cell_type": "code",
   "execution_count": null,
   "metadata": {
    "collapsed": true
   },
   "outputs": [],
   "source": []
  }
 ],
 "metadata": {
  "kernelspec": {
   "display_name": "Python 3",
   "language": "python",
   "name": "python3"
  },
  "language_info": {
   "codemirror_mode": {
    "name": "ipython",
    "version": 3
   },
   "file_extension": ".py",
   "mimetype": "text/x-python",
   "name": "python",
   "nbconvert_exporter": "python",
   "pygments_lexer": "ipython3",
   "version": "3.6.3"
  }
 },
 "nbformat": 4,
 "nbformat_minor": 2
}
