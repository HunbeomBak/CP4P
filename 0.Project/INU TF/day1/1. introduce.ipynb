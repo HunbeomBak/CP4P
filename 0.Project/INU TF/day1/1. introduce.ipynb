{
 "cells": [
  {
   "cell_type": "markdown",
   "metadata": {},
   "source": [
    "김성훈 교수 강의를 토대로 만듬\n",
    "\n",
    "DQN(강화학습)까지 나가는게 목표\n",
    "\n",
    "리눅스 셋팅해야함( 윈10은 서브셋팅으로 )\n"
   ]
  },
  {
   "cell_type": "markdown",
   "metadata": {},
   "source": [
    "# 1강 인공지능과 머신러닝\n",
    "\n",
    "## 01.인공지능\n",
    "똑똑한 기계/컴퓨터를 만드는것\n",
    "\n",
    "지적이고, 상황에 따라 적응하면서, 안정적으로 동작을 구현\n",
    "\n",
    "모든 상황을 프로그래밍할 수 없음 -> 대충 동작을 보여주고 스스로 알아서 했으면 -> 학습(Learning)"
   ]
  },
  {
   "cell_type": "markdown",
   "metadata": {},
   "source": [
    "## 02. 인공지능과 기계학습 그리고 신경망\n",
    "\n",
    "인공지능: 사고나 학습등 인간이 가진 지적 능력을 컴퓨터를 통해 구현하는 기술\n",
    "\n",
    "기계학습: 컴퓨터가 스스로 학습하여 인공지능의 성능을 향상시키는 기술\n",
    "\n",
    "딥러닝: 인간의 뉴런과 비슷한 인공신경망을 구성하여 정보를 처리 -> 신경망을 어떻게 짜느냐가 핵심\n",
    "\n",
    "이 모든것은 데이터를 가지고 이루어짐\n",
    "\n",
    "\n",
    "4차 산업 혁명: 인공지능 + IOT + 클라우드 + 빅데이터 기술\n",
    "\n",
    "IOT로 데이터가 쌓이고 클라우드로 저장, 빅데이터 기술로 처리하고 인공지능으로 사용\n",
    "\n"
   ]
  },
  {
   "cell_type": "markdown",
   "metadata": {},
   "source": [
    "# 03. 기계가 머신러닝\n",
    "데이터 주고 기계가 학습\n",
    "\n",
    "지도학습: 이미 정의된 데이터로 학습을 input과 label을 이용하여 학습 -> 예측 , 추정, 분류에 사용\n",
    "\n",
    "비지도학습: input만을 이용한 학습\n",
    "\n",
    "강화학습 : 시뮬레이션 반복학습, input과 reward가 주어짐 -> 성능강화 등에 사용, Action Selection 등등"
   ]
  },
  {
   "cell_type": "markdown",
   "metadata": {},
   "source": [
    "# 05. 딥러닝 프레임워크\n",
    "\n",
    "theano\n",
    "\n",
    "caffe\n",
    "\n",
    "pytorch\n",
    "\n",
    "tensorflow\n",
    "\n",
    "keras\n",
    "\n",
    "chainer\n",
    "\n",
    "cntk\n",
    "\n",
    "caffe2"
   ]
  },
  {
   "cell_type": "code",
   "execution_count": null,
   "metadata": {
    "collapsed": true
   },
   "outputs": [],
   "source": []
  }
 ],
 "metadata": {
  "kernelspec": {
   "display_name": "Python 3",
   "language": "python",
   "name": "python3"
  },
  "language_info": {
   "codemirror_mode": {
    "name": "ipython",
    "version": 3
   },
   "file_extension": ".py",
   "mimetype": "text/x-python",
   "name": "python",
   "nbconvert_exporter": "python",
   "pygments_lexer": "ipython3",
   "version": "3.6.3"
  }
 },
 "nbformat": 4,
 "nbformat_minor": 2
}
