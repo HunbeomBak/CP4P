{
 "cells": [
  {
   "cell_type": "code",
   "execution_count": 1,
   "metadata": {
    "collapsed": true
   },
   "outputs": [],
   "source": [
    "import tensorflow as tf"
   ]
  },
  {
   "cell_type": "code",
   "execution_count": 2,
   "metadata": {
    "collapsed": true
   },
   "outputs": [],
   "source": [
    "from tensorflow.examples.tutorials.mnist import input_data"
   ]
  },
  {
   "cell_type": "code",
   "execution_count": 3,
   "metadata": {},
   "outputs": [
    {
     "name": "stdout",
     "output_type": "stream",
     "text": [
      "Successfully downloaded train-images-idx3-ubyte.gz 9912422 bytes.\n",
      "Extracting MNist_data\\train-images-idx3-ubyte.gz\n",
      "Successfully downloaded train-labels-idx1-ubyte.gz 28881 bytes.\n",
      "Extracting MNist_data\\train-labels-idx1-ubyte.gz\n",
      "Successfully downloaded t10k-images-idx3-ubyte.gz 1648877 bytes.\n",
      "Extracting MNist_data\\t10k-images-idx3-ubyte.gz\n",
      "Successfully downloaded t10k-labels-idx1-ubyte.gz 4542 bytes.\n",
      "Extracting MNist_data\\t10k-labels-idx1-ubyte.gz\n"
     ]
    }
   ],
   "source": [
    "mnist = input_data.read_data_sets(\"MNist_data\")"
   ]
  },
  {
   "cell_type": "code",
   "execution_count": null,
   "metadata": {
    "collapsed": true
   },
   "outputs": [],
   "source": [
    "with tf.name_scope(\"input\") as scope:\n",
    "    x = tf.placeholder(tf.float32, [None, 784])\n",
    "with tf.name_scope(\"weight\") as scope:\n",
    "    W = tf.Variable(tf.zeros([784, 10]))\n",
    "with tf.name_scope(\"bias\") as scope:\n",
    "    b = tf.Variable(tf.zeros([10]))\n",
    "with tf.name_scope(\"layer1\") as scope:\n",
    "    y = tf.nn.softmax(tf.matmul(x, W) + b)\n",
    "    w_hist = tf.summary.histogram(\"weight\", W)\n",
    "    b_hist = tf.summary.histogram(\"bias\", b)\n",
    "    y_hist = tf.summary.histogram(\"y\", y)\n",
    "with tf.name_scope(\"y_\") as scope:\n",
    "    y_ = tf.placeholder(tf.float32, [None, 10])\n",
    "with tf.name_scope(\"cost\") as scope:\n",
    "    cross_entropy = tf.reduce_mean(-tf.reduce_sum(y_ * tf.log(y),reduction_indices=[1]))\n",
    "    cost_sum = tf.summary.scalar(\"cost\", cross_entropy)\n",
    "with tf.name_scope(\"train\") as scope:\n",
    "    train_step =tf.train.GradientDescentOptimizer(0.5).minimize(cross_entropy)\n",
    "with tf.Session() as sess:\n",
    "    merged = tf.summary.merge_all()    "
   ]
  }
 ],
 "metadata": {
  "kernelspec": {
   "display_name": "Python 3",
   "language": "python",
   "name": "python3"
  },
  "language_info": {
   "codemirror_mode": {
    "name": "ipython",
    "version": 3
   },
   "file_extension": ".py",
   "mimetype": "text/x-python",
   "name": "python",
   "nbconvert_exporter": "python",
   "pygments_lexer": "ipython3",
   "version": "3.6.3"
  }
 },
 "nbformat": 4,
 "nbformat_minor": 2
}
