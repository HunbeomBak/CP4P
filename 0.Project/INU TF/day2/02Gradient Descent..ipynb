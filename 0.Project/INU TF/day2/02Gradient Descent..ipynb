{
 "cells": [
  {
   "cell_type": "markdown",
   "metadata": {},
   "source": [
    "# 14.예제"
   ]
  },
  {
   "cell_type": "code",
   "execution_count": 36,
   "metadata": {
    "collapsed": true
   },
   "outputs": [],
   "source": [
    "import tensorflow as tf\n",
    "import numpy as np"
   ]
  },
  {
   "cell_type": "code",
   "execution_count": 22,
   "metadata": {},
   "outputs": [],
   "source": [
    "x_data=[1,2,3]\n",
    "y_data=[1,2,3]\n",
    "\n",
    "W=tf.Variable(tf.random_normal([1]),name='weight')\n",
    "\n",
    "X=tf.placeholder(tf.float32)\n",
    "Y=tf.placeholder(tf.float32)\n",
    "\n",
    "hypothesis = X*W"
   ]
  },
  {
   "cell_type": "code",
   "execution_count": 23,
   "metadata": {
    "collapsed": true
   },
   "outputs": [],
   "source": [
    "cost = tf.reduce_sum(tf.square(hypothesis - Y))"
   ]
  },
  {
   "cell_type": "code",
   "execution_count": 24,
   "metadata": {
    "collapsed": true
   },
   "outputs": [],
   "source": [
    "learning_rate = 0.1\n",
    "gradient = tf.reduce_mean((W*X - Y)*X)\n",
    "descent = W - learning_rate * gradient\n",
    "update = W.assign(descent)"
   ]
  },
  {
   "cell_type": "code",
   "execution_count": 25,
   "metadata": {
    "collapsed": true
   },
   "outputs": [],
   "source": [
    "sess = tf.Session()\n",
    "sess.run(tf.global_variables_initializer())"
   ]
  },
  {
   "cell_type": "code",
   "execution_count": 34,
   "metadata": {},
   "outputs": [
    {
     "name": "stdout",
     "output_type": "stream",
     "text": [
      "0 1.54898e-12 [ 1.00000036]\n",
      "1 7.95808e-13 [ 1.00000024]\n",
      "2 2.98428e-13 [ 1.00000012]\n",
      "3 0.0 [ 1.]\n",
      "4 0.0 [ 1.]\n",
      "5 0.0 [ 1.]\n",
      "6 0.0 [ 1.]\n",
      "7 0.0 [ 1.]\n",
      "8 0.0 [ 1.]\n",
      "9 0.0 [ 1.]\n",
      "10 0.0 [ 1.]\n",
      "11 0.0 [ 1.]\n",
      "12 0.0 [ 1.]\n",
      "13 0.0 [ 1.]\n",
      "14 0.0 [ 1.]\n",
      "15 0.0 [ 1.]\n",
      "16 0.0 [ 1.]\n",
      "17 0.0 [ 1.]\n",
      "18 0.0 [ 1.]\n",
      "19 0.0 [ 1.]\n",
      "20 0.0 [ 1.]\n"
     ]
    }
   ],
   "source": [
    "for step in range(21):\n",
    "    sess.run(update, feed_dict={X:x_data, Y:y_data})\n",
    "    print(step, sess.run(cost, feed_dict={X:x_data, Y:y_data}),sess.run(W))"
   ]
  },
  {
   "cell_type": "markdown",
   "metadata": {},
   "source": [
    "# 다변량예측- 파일을 이용한 데이터 로딩"
   ]
  },
  {
   "cell_type": "code",
   "execution_count": 44,
   "metadata": {},
   "outputs": [
    {
     "name": "stdout",
     "output_type": "stream",
     "text": [
      "(25, 3) [[  73.   80.   75.]\n",
      " [  93.   88.   93.]\n",
      " [  89.   91.   90.]\n",
      " [  96.   98.  100.]\n",
      " [  73.   66.   70.]\n",
      " [  53.   46.   55.]\n",
      " [  69.   74.   77.]\n",
      " [  47.   56.   60.]\n",
      " [  87.   79.   90.]\n",
      " [  79.   70.   88.]\n",
      " [  69.   70.   73.]\n",
      " [  70.   65.   74.]\n",
      " [  93.   95.   91.]\n",
      " [  79.   80.   73.]\n",
      " [  70.   73.   78.]\n",
      " [  93.   89.   96.]\n",
      " [  78.   75.   68.]\n",
      " [  81.   90.   93.]\n",
      " [  88.   92.   86.]\n",
      " [  78.   83.   77.]\n",
      " [  82.   86.   90.]\n",
      " [  86.   82.   89.]\n",
      " [  78.   83.   85.]\n",
      " [  76.   83.   71.]\n",
      " [  96.   93.   95.]] 25\n",
      "(25, 1) [[ 152.]\n",
      " [ 185.]\n",
      " [ 180.]\n",
      " [ 196.]\n",
      " [ 142.]\n",
      " [ 101.]\n",
      " [ 149.]\n",
      " [ 115.]\n",
      " [ 175.]\n",
      " [ 164.]\n",
      " [ 141.]\n",
      " [ 141.]\n",
      " [ 184.]\n",
      " [ 152.]\n",
      " [ 148.]\n",
      " [ 192.]\n",
      " [ 147.]\n",
      " [ 183.]\n",
      " [ 177.]\n",
      " [ 159.]\n",
      " [ 177.]\n",
      " [ 175.]\n",
      " [ 175.]\n",
      " [ 149.]\n",
      " [ 192.]]\n"
     ]
    }
   ],
   "source": [
    "xy=np.loadtxt('multi_val_test_file.csv',delimiter=',',dtype=np.float32)\n",
    "\n",
    "x_data =xy[:,0:-1]\n",
    "y_data =xy[:,[-1]]\n",
    "\n",
    "print(x_data.shape, x_data, len(x_data))\n",
    "print(y_data.shape, y_data)"
   ]
  },
  {
   "cell_type": "code",
   "execution_count": null,
   "metadata": {
    "collapsed": true
   },
   "outputs": [],
   "source": [
    "X=placeholder(tf.float32, shape=[None,3])\n",
    "Y=placeholder(tf.float32, shape=[None,1])\n",
    "\n",
    "W = tf.Variable(tf.random_normal([3,1]),name='weight')\n",
    "b= tf.Variable(tf.random_normal([1]),name='bias')"
   ]
  }
 ],
 "metadata": {
  "kernelspec": {
   "display_name": "Python 3",
   "language": "python",
   "name": "python3"
  },
  "language_info": {
   "codemirror_mode": {
    "name": "ipython",
    "version": 3
   },
   "file_extension": ".py",
   "mimetype": "text/x-python",
   "name": "python",
   "nbconvert_exporter": "python",
   "pygments_lexer": "ipython3",
   "version": "3.6.3"
  }
 },
 "nbformat": 4,
 "nbformat_minor": 2
}
