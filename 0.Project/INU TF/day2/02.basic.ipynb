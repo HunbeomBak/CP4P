{
 "cells": [
  {
   "cell_type": "code",
   "execution_count": 30,
   "metadata": {
    "collapsed": true
   },
   "outputs": [],
   "source": [
    "import tensorflow as tf\n",
    "import matplotlib.pyplot as plt"
   ]
  },
  {
   "cell_type": "markdown",
   "metadata": {},
   "source": [
    "# 1. Basic\n",
    "\n",
    "## 그래프 만들기\n"
   ]
  },
  {
   "cell_type": "code",
   "execution_count": 22,
   "metadata": {
    "collapsed": true
   },
   "outputs": [],
   "source": [
    "x_train = [1,2,3]\n",
    "y_train = [1,2,3]\n",
    "\n",
    "W = tf.Variable(tf.random_normal([1]),name='weight')\n",
    "b= tf.Variable(tf.random_normal([1]),name='bias')\n",
    "\n",
    "#Model\n",
    "\n",
    "hypothesis = x_train*W +b"
   ]
  },
  {
   "cell_type": "markdown",
   "metadata": {},
   "source": [
    "## cost"
   ]
  },
  {
   "cell_type": "code",
   "execution_count": 23,
   "metadata": {
    "collapsed": true
   },
   "outputs": [],
   "source": [
    "cost = tf.reduce_mean(tf.square(hypothesis - y_train))"
   ]
  },
  {
   "cell_type": "markdown",
   "metadata": {},
   "source": [
    "## Minimize"
   ]
  },
  {
   "cell_type": "code",
   "execution_count": 24,
   "metadata": {
    "collapsed": true
   },
   "outputs": [],
   "source": [
    "optimizer =tf.train.GradientDescentOptimizer(learning_rate=0.01)\n",
    "train = optimizer.minimize(cost)"
   ]
  },
  {
   "cell_type": "markdown",
   "metadata": {},
   "source": [
    "## Launch the graph in a Session"
   ]
  },
  {
   "cell_type": "code",
   "execution_count": 25,
   "metadata": {
    "collapsed": true
   },
   "outputs": [],
   "source": [
    "sess= tf.Session()"
   ]
  },
  {
   "cell_type": "markdown",
   "metadata": {},
   "source": [
    "## Initialize global Variables"
   ]
  },
  {
   "cell_type": "code",
   "execution_count": 26,
   "metadata": {
    "collapsed": true
   },
   "outputs": [],
   "source": [
    "sess.run(tf.global_variables_initializer())"
   ]
  },
  {
   "cell_type": "markdown",
   "metadata": {},
   "source": [
    "## Fit the line"
   ]
  },
  {
   "cell_type": "code",
   "execution_count": 27,
   "metadata": {},
   "outputs": [
    {
     "name": "stdout",
     "output_type": "stream",
     "text": [
      "0 15.7166 [-1.03046095] [ 0.45979571]\n",
      "20 0.308263 [ 0.37889725] [ 1.01618886]\n",
      "40 0.153345 [ 0.53319871] [ 1.02346849]\n",
      "60 0.138122 [ 0.56704974] [ 0.98060971]\n",
      "80 0.125434 [ 0.58853126] [ 0.93502361]\n",
      "100 0.113921 [ 0.60797679] [ 0.89112842]\n",
      "120 0.103465 [ 0.62641066] [ 0.84925324]\n",
      "140 0.0939688 [ 0.64396894] [ 0.80934203]\n",
      "160 0.0853439 [ 0.6607011] [ 0.77130604]\n",
      "180 0.0775107 [ 0.67664695] [ 0.73505747]\n",
      "200 0.0703965 [ 0.69184333] [ 0.70051241]\n",
      "220 0.0639352 [ 0.70632565] [ 0.66759086]\n",
      "240 0.058067 [ 0.72012722] [ 0.63621664]\n",
      "260 0.0527374 [ 0.73328012] [ 0.6063168]\n",
      "280 0.047897 [ 0.74581504] [ 0.57782221]\n",
      "300 0.0435008 [ 0.75776076] [ 0.55066675]\n",
      "320 0.0395081 [ 0.76914513] [ 0.52478749]\n",
      "340 0.0358819 [ 0.77999443] [ 0.50012434]\n",
      "360 0.0325885 [ 0.79033393] [ 0.47662032]\n",
      "380 0.0295974 [ 0.80018747] [ 0.45422095]\n",
      "400 0.0268809 [ 0.80957788] [ 0.4328742]\n",
      "420 0.0244136 [ 0.81852698] [ 0.41253069]\n",
      "440 0.0221728 [ 0.82705569] [ 0.39314327]\n",
      "460 0.0201377 [ 0.83518332] [ 0.37466699]\n",
      "480 0.0182894 [ 0.84292912] [ 0.35705903]\n",
      "500 0.0166107 [ 0.85031086] [ 0.34027863]\n",
      "520 0.0150861 [ 0.85734564] [ 0.32428679]\n",
      "540 0.0137015 [ 0.86404991] [ 0.30904648]\n",
      "560 0.0124439 [ 0.87043911] [ 0.2945224]\n",
      "580 0.0113017 [ 0.87652797] [ 0.28068092]\n",
      "600 0.0102644 [ 0.88233072] [ 0.26748991]\n",
      "620 0.00932231 [ 0.88786077] [ 0.2549189]\n",
      "640 0.00846667 [ 0.8931309] [ 0.24293864]\n",
      "660 0.00768957 [ 0.89815331] [ 0.23152146]\n",
      "680 0.00698378 [ 0.90293974] [ 0.22064078]\n",
      "700 0.00634278 [ 0.90750122] [ 0.21027149]\n",
      "720 0.00576062 [ 0.91184837] [ 0.20038946]\n",
      "740 0.00523189 [ 0.91599113] [ 0.19097188]\n",
      "760 0.00475168 [ 0.91993928] [ 0.18199688]\n",
      "780 0.00431555 [ 0.92370182] [ 0.17344369]\n",
      "800 0.00391945 [ 0.92728758] [ 0.16529247]\n",
      "820 0.00355971 [ 0.93070477] [ 0.1575243]\n",
      "840 0.00323299 [ 0.93396145] [ 0.15012123]\n",
      "860 0.00293626 [ 0.93706501] [ 0.14306605]\n",
      "880 0.00266675 [ 0.94002271] [ 0.13634248]\n",
      "900 0.00242199 [ 0.94284141] [ 0.12993488]\n",
      "920 0.00219968 [ 0.94552767] [ 0.12382842]\n",
      "940 0.00199779 [ 0.94808769] [ 0.11800895]\n",
      "960 0.00181442 [ 0.95052743] [ 0.11246289]\n",
      "980 0.00164789 [ 0.95285237] [ 0.10717756]\n",
      "1000 0.00149663 [ 0.95506817] [ 0.10214064]\n",
      "1020 0.00135927 [ 0.95717978] [ 0.09734039]\n",
      "1040 0.00123451 [ 0.95919228] [ 0.09276576]\n",
      "1060 0.0011212 [ 0.96111006] [ 0.08840606]\n",
      "1080 0.00101829 [ 0.96293771] [ 0.0842513]\n",
      "1100 0.000924829 [ 0.96467948] [ 0.08029179]\n",
      "1120 0.000839945 [ 0.96633941] [ 0.07651837]\n",
      "1140 0.000762852 [ 0.96792138] [ 0.07292229]\n",
      "1160 0.000692837 [ 0.96942896] [ 0.06949521]\n",
      "1180 0.000629244 [ 0.97086573] [ 0.06622917]\n",
      "1200 0.000571489 [ 0.9722349] [ 0.06311662]\n",
      "1220 0.000519036 [ 0.97353971] [ 0.06015037]\n",
      "1240 0.000471396 [ 0.97478324] [ 0.05732355]\n",
      "1260 0.000428129 [ 0.97596836] [ 0.05462955]\n",
      "1280 0.000388833 [ 0.97709775] [ 0.05206217]\n",
      "1300 0.000353148 [ 0.97817409] [ 0.04961545]\n",
      "1320 0.000320733 [ 0.97919971] [ 0.04728374]\n",
      "1340 0.000291296 [ 0.98017722] [ 0.04506161]\n",
      "1360 0.000264557 [ 0.98110896] [ 0.04294388]\n",
      "1380 0.000240275 [ 0.98199677] [ 0.04092565]\n",
      "1400 0.000218223 [ 0.98284286] [ 0.03900227]\n",
      "1420 0.000198194 [ 0.98364919] [ 0.03716929]\n",
      "1440 0.000180002 [ 0.98441762] [ 0.03542246]\n",
      "1460 0.000163481 [ 0.98514992] [ 0.03375774]\n",
      "1480 0.000148476 [ 0.98584783] [ 0.03217125]\n",
      "1500 0.000134848 [ 0.98651296] [ 0.03065929]\n",
      "1520 0.00012247 [ 0.98714679] [ 0.0292184]\n",
      "1540 0.00011123 [ 0.98775083] [ 0.02784524]\n",
      "1560 0.000101021 [ 0.98832649] [ 0.02653663]\n",
      "1580 9.17485e-05 [ 0.98887509] [ 0.02528951]\n",
      "1600 8.33289e-05 [ 0.98939794] [ 0.02410103]\n",
      "1620 7.56799e-05 [ 0.98989612] [ 0.02296838]\n",
      "1640 6.87331e-05 [ 0.99037111] [ 0.0218889]\n",
      "1660 6.2425e-05 [ 0.99082363] [ 0.02086017]\n",
      "1680 5.6694e-05 [ 0.99125487] [ 0.01987979]\n",
      "1700 5.14911e-05 [ 0.9916659] [ 0.01894548]\n",
      "1720 4.6765e-05 [ 0.9920575] [ 0.01805512]\n",
      "1740 4.24723e-05 [ 0.99243075] [ 0.0172066]\n",
      "1760 3.85739e-05 [ 0.99278653] [ 0.01639796]\n",
      "1780 3.5033e-05 [ 0.99312556] [ 0.0156273]\n",
      "1800 3.18184e-05 [ 0.99344862] [ 0.01489284]\n",
      "1820 2.88979e-05 [ 0.99375653] [ 0.01419292]\n",
      "1840 2.62452e-05 [ 0.99404997] [ 0.01352589]\n",
      "1860 2.38362e-05 [ 0.99432957] [ 0.0128902]\n",
      "1880 2.16483e-05 [ 0.99459606] [ 0.01228443]\n",
      "1900 1.96618e-05 [ 0.99484998] [ 0.01170713]\n",
      "1920 1.78565e-05 [ 0.99509203] [ 0.01115695]\n",
      "1940 1.62183e-05 [ 0.9953227] [ 0.01063261]\n",
      "1960 1.47296e-05 [ 0.99554253] [ 0.0101329]\n",
      "1980 1.33773e-05 [ 0.99575198] [ 0.0096567]\n",
      "2000 1.21495e-05 [ 0.99595165] [ 0.00920289]\n"
     ]
    }
   ],
   "source": [
    "for step in range(2001):\n",
    "    sess.run(train)\n",
    "    if step %20 ==0:\n",
    "        print(step,sess.run(cost), sess.run(W), sess.run(b))"
   ]
  },
  {
   "cell_type": "code",
   "execution_count": 29,
   "metadata": {
    "collapsed": true
   },
   "outputs": [],
   "source": [
    "sess.close()"
   ]
  },
  {
   "cell_type": "markdown",
   "metadata": {},
   "source": [
    "# 2. Placeholder and Variable"
   ]
  },
  {
   "cell_type": "code",
   "execution_count": 37,
   "metadata": {},
   "outputs": [
    {
     "name": "stdout",
     "output_type": "stream",
     "text": [
      "0 2.7322 [ 0.06618266] [ 0.60287923]\n",
      "20 0.118265 [ 0.59060198] [ 0.78593343]\n",
      "40 0.0859838 [ 0.65559816] [ 0.7691257]\n",
      "60 0.0778977 [ 0.67614067] [ 0.73489624]\n",
      "80 0.0707461 [ 0.6917758] [ 0.70054126]\n",
      "100 0.0642527 [ 0.70630074] [ 0.66763574]\n",
      "120 0.0583554 [ 0.72010726] [ 0.63626093]\n",
      "140 0.0529993 [ 0.73326153] [ 0.60635918]\n",
      "160 0.0481348 [ 0.74579728] [ 0.57786256]\n",
      "180 0.0437168 [ 0.7577439] [ 0.55070508]\n",
      "200 0.0397043 [ 0.76912898] [ 0.52482396]\n",
      "220 0.0360601 [ 0.77997905] [ 0.50015932]\n",
      "240 0.0327503 [ 0.79031926] [ 0.47665361]\n",
      "260 0.0297444 [ 0.80017358] [ 0.45425254]\n",
      "280 0.0270143 [ 0.80956465] [ 0.43290433]\n",
      "300 0.0245348 [ 0.81851441] [ 0.41255942]\n",
      "320 0.0222829 [ 0.82704347] [ 0.39317065]\n",
      "340 0.0202377 [ 0.83517188] [ 0.37469307]\n",
      "360 0.0183802 [ 0.84291822] [ 0.35708389]\n",
      "380 0.0166932 [ 0.85030043] [ 0.34030229]\n",
      "400 0.015161 [ 0.85733581] [ 0.32430935]\n",
      "420 0.0137695 [ 0.86404049] [ 0.30906796]\n",
      "440 0.0125057 [ 0.87043005] [ 0.29454294]\n",
      "460 0.0113579 [ 0.87651932] [ 0.2807005]\n",
      "480 0.0103154 [ 0.88232255] [ 0.26750866]\n",
      "500 0.00936859 [ 0.88785297] [ 0.25493667]\n",
      "520 0.00850871 [ 0.89312345] [ 0.24295561]\n",
      "540 0.00772775 [ 0.89814633] [ 0.23153758]\n",
      "560 0.00701845 [ 0.902933] [ 0.22065614]\n",
      "580 0.00637429 [ 0.90749478] [ 0.21028614]\n",
      "600 0.00578922 [ 0.91184217] [ 0.20040348]\n",
      "620 0.00525787 [ 0.91598529] [ 0.19098528]\n",
      "640 0.00477528 [ 0.91993368] [ 0.18200965]\n",
      "660 0.00433698 [ 0.92369646] [ 0.17345586]\n",
      "680 0.00393893 [ 0.92728245] [ 0.16530406]\n",
      "700 0.00357739 [ 0.9307] [ 0.15753533]\n",
      "720 0.00324904 [ 0.93395674] [ 0.15013175]\n",
      "740 0.00295083 [ 0.93706059] [ 0.14307612]\n",
      "760 0.00267999 [ 0.94001848] [ 0.13635209]\n",
      "780 0.00243401 [ 0.94283742] [ 0.12994404]\n",
      "800 0.00221061 [ 0.9455238] [ 0.12383714]\n",
      "820 0.00200772 [ 0.948084] [ 0.11801725]\n",
      "840 0.00182343 [ 0.95052391] [ 0.11247083]\n",
      "860 0.00165607 [ 0.95284909] [ 0.10718508]\n",
      "880 0.00150407 [ 0.95506501] [ 0.10214781]\n",
      "900 0.00136602 [ 0.95717674] [ 0.09734723]\n",
      "920 0.00124064 [ 0.9591893] [ 0.09277231]\n",
      "940 0.00112677 [ 0.96110725] [ 0.08841236]\n",
      "960 0.00102335 [ 0.96293509] [ 0.08425728]\n",
      "980 0.000929428 [ 0.96467698] [ 0.08029752]\n",
      "1000 0.000844117 [ 0.96633703] [ 0.07652383]\n",
      "1020 0.000766643 [ 0.96791905] [ 0.07292751]\n",
      "1040 0.000696277 [ 0.96942663] [ 0.06950023]\n",
      "1060 0.00063237 [ 0.97086352] [ 0.06623401]\n",
      "1080 0.000574328 [ 0.97223282] [ 0.06312127]\n",
      "1100 0.000521615 [ 0.9735378] [ 0.06015481]\n",
      "1120 0.000473738 [ 0.97478139] [ 0.05732778]\n",
      "1140 0.00043026 [ 0.97596657] [ 0.05463361]\n",
      "1160 0.000390769 [ 0.97709602] [ 0.05206605]\n",
      "1180 0.000354903 [ 0.97817242] [ 0.04961915]\n",
      "1200 0.000322327 [ 0.97919816] [ 0.04728727]\n",
      "1220 0.000292744 [ 0.98017579] [ 0.045065]\n",
      "1240 0.000265875 [ 0.98110753] [ 0.04294709]\n",
      "1260 0.000241472 [ 0.9819954] [ 0.04092873]\n",
      "1280 0.00021931 [ 0.98284155] [ 0.03900523]\n",
      "1300 0.00019918 [ 0.98364788] [ 0.03717214]\n",
      "1320 0.000180898 [ 0.98441637] [ 0.0354252]\n",
      "1340 0.000164296 [ 0.98514879] [ 0.03376034]\n",
      "1360 0.000149215 [ 0.9858467] [ 0.03217373]\n",
      "1380 0.000135519 [ 0.98651189] [ 0.03066169]\n",
      "1400 0.000123082 [ 0.98714578] [ 0.02922069]\n",
      "1420 0.000111785 [ 0.98774987] [ 0.0278474]\n",
      "1440 0.000101524 [ 0.9883256] [ 0.02653866]\n",
      "1460 9.22056e-05 [ 0.98887426] [ 0.02529144]\n",
      "1480 8.37434e-05 [ 0.98939711] [ 0.02410288]\n",
      "1500 7.60568e-05 [ 0.9898954] [ 0.02297013]\n",
      "1520 6.90754e-05 [ 0.99037033] [ 0.02189058]\n",
      "1540 6.27356e-05 [ 0.99082291] [ 0.02086177]\n",
      "1560 5.69778e-05 [ 0.99125415] [ 0.01988134]\n",
      "1580 5.17467e-05 [ 0.99166524] [ 0.01894698]\n",
      "1600 4.69978e-05 [ 0.99205691] [ 0.01805654]\n",
      "1620 4.26844e-05 [ 0.99243021] [ 0.01720794]\n",
      "1640 3.87665e-05 [ 0.99278593] [ 0.01639923]\n",
      "1660 3.52082e-05 [ 0.99312496] [ 0.01562854]\n",
      "1680 3.19769e-05 [ 0.99344802] [ 0.01489407]\n",
      "1700 2.90425e-05 [ 0.99375594] [ 0.01419414]\n",
      "1720 2.63765e-05 [ 0.99404943] [ 0.01352707]\n",
      "1740 2.39554e-05 [ 0.99432904] [ 0.01289135]\n",
      "1760 2.17575e-05 [ 0.99459559] [ 0.01228551]\n",
      "1780 1.97596e-05 [ 0.9948495] [ 0.01170817]\n",
      "1800 1.79466e-05 [ 0.99509156] [ 0.01115796]\n",
      "1820 1.62993e-05 [ 0.99532229] [ 0.01063356]\n",
      "1840 1.48031e-05 [ 0.99554217] [ 0.0101338]\n",
      "1860 1.34445e-05 [ 0.99575168] [ 0.00965753]\n",
      "1880 1.22107e-05 [ 0.99595129] [ 0.00920365]\n",
      "1900 1.10901e-05 [ 0.99614155] [ 0.00877114]\n",
      "1920 1.00721e-05 [ 0.99632287] [ 0.00835893]\n",
      "1940 9.14728e-06 [ 0.99649566] [ 0.00796611]\n",
      "1960 8.30789e-06 [ 0.99666035] [ 0.00759175]\n",
      "1980 7.54536e-06 [ 0.99681735] [ 0.00723498]\n",
      "2000 6.85328e-06 [ 0.9969669] [ 0.00689498]\n"
     ]
    }
   ],
   "source": [
    "W= tf.Variable(tf.random_normal([1]),name='weight')\n",
    "b= tf.Variable(tf.random_normal([1]),name= 'bias')\n",
    "X= tf.placeholder(tf.float32,shape=[None])\n",
    "Y= tf.placeholder(tf.float32,shape=[None])\n",
    "\n",
    "hypothesis = X*W + b          \n",
    "\n",
    "cost = tf.reduce_mean(tf.square(hypothesis - y_train))\n",
    "\n",
    "optimizer =tf.train.GradientDescentOptimizer(learning_rate=0.01)\n",
    "train = optimizer.minimize(cost)\n",
    "\n",
    "sess= tf.Session()\n",
    "sess.run(tf.global_variables_initializer())\n",
    "\n",
    "for step in range(2001):\n",
    "    cost_val, W_val, b_val,_ = sess.run([cost,W,b,train],feed_dict={X:[1,2,3],Y:[1,2,3]})\n",
    "    if step % 20 == 0:\n",
    "        print(step, cost_val, W_val, b_val)\n"
   ]
  },
  {
   "cell_type": "markdown",
   "metadata": {},
   "source": [
    "# 3. 차트 그리기"
   ]
  },
  {
   "cell_type": "code",
   "execution_count": 44,
   "metadata": {},
   "outputs": [
    {
     "data": {
      "image/png": "[encoded data removed]",
      "text/plain": [
       "<matplotlib.figure.Figure at 0x2272ef09240>"
      ]
     },
     "metadata": {},
     "output_type": "display_data"
    }
   ],
   "source": [
    "W= tf.placeholder(tf.float32)\n",
    "X= [1,2,3]\n",
    "Y= [1,2,3]\n",
    "\n",
    "hypothesis = X*W       \n",
    "\n",
    "cost = tf.reduce_mean(tf.square(hypothesis - Y))\n",
    "\n",
    "sess= tf.Session()\n",
    "sess.run(tf.global_variables_initializer())\n",
    "\n",
    "\n",
    "W_val=[]\n",
    "cost_val =[]\n",
    "\n",
    "for i in range(-30,50):\n",
    "    feed_W= i * 0.1\n",
    "    curr_cost, curr_W = sess.run([cost,W],feed_dict={W: feed_W})\n",
    "    W_val.append(curr_W)\n",
    "    cost_val.append(curr_cost)\n",
    "\n",
    "plt.plot(W_val, cost_val)\n",
    "plt.show()\n"
   ]
  },
  {
   "cell_type": "markdown",
   "metadata": {},
   "source": [
    "## 경사도 하강법"
   ]
  },
  {
   "cell_type": "code",
   "execution_count": null,
   "metadata": {
    "collapsed": true
   },
   "outputs": [],
   "source": []
  }
 ],
 "metadata": {
  "kernelspec": {
   "display_name": "Python 3",
   "language": "python",
   "name": "python3"
  },
  "language_info": {
   "codemirror_mode": {
    "name": "ipython",
    "version": 3
   },
   "file_extension": ".py",
   "mimetype": "text/x-python",
   "name": "python",
   "nbconvert_exporter": "python",
   "pygments_lexer": "ipython3",
   "version": "3.6.3"
  }
 },
 "nbformat": 4,
 "nbformat_minor": 2
}
