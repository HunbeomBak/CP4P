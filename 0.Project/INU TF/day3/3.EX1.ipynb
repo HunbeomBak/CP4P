{
 "cells": [
  {
   "cell_type": "code",
   "execution_count": 13,
   "metadata": {
    "collapsed": true
   },
   "outputs": [],
   "source": [
    "import tensorflow as tf\n",
    "tf.reset_default_graph()"
   ]
  },
  {
   "cell_type": "markdown",
   "metadata": {},
   "source": [
    "### 우리가 사용할 데이터"
   ]
  },
  {
   "cell_type": "code",
   "execution_count": 14,
   "metadata": {
    "collapsed": true
   },
   "outputs": [],
   "source": [
    "x_data =[[1,2],[2,3],[3,1],[4,3],[5,3],[6,2]]\n",
    "y_data = [[0],[0],[0],[1],[1],[1]]"
   ]
  },
  {
   "cell_type": "markdown",
   "metadata": {},
   "source": [
    "### placeholder 및 변수 선언\n",
    "\n",
    "x데이터가 두개씩 짝지어어짐 -> [None,2]\n",
    "\n",
    "y데이터 1개 -> [None,1]\n",
    "\n",
    "None은 데이터가 몇개 들어와도 상관없음"
   ]
  },
  {
   "cell_type": "code",
   "execution_count": 15,
   "metadata": {},
   "outputs": [],
   "source": [
    "X= tf.placeholder(tf.float32,shape=[None,2])\n",
    "Y= tf.placeholder(tf.float32, shape=[None,1])\n",
    "\n",
    "W=tf.Variable(tf.random_normal([2,1]),name='weight')\n",
    "b=tf.Variable(tf.random_normal([1]),name='bias')"
   ]
  },
  {
   "cell_type": "markdown",
   "metadata": {},
   "source": [
    "### Hypothesis \n",
    "가설"
   ]
  },
  {
   "cell_type": "code",
   "execution_count": 16,
   "metadata": {
    "collapsed": true
   },
   "outputs": [],
   "source": [
    "hypothesis = tf.sigmoid(tf.matmul(X,W)+b)"
   ]
  },
  {
   "cell_type": "markdown",
   "metadata": {},
   "source": [
    "### Cost function"
   ]
  },
  {
   "cell_type": "code",
   "execution_count": 17,
   "metadata": {
    "collapsed": true
   },
   "outputs": [],
   "source": [
    "cost=-tf.reduce_mean(Y*tf.log(hypothesis)+(1-Y)*tf.log(1-hypothesis))"
   ]
  },
  {
   "cell_type": "markdown",
   "metadata": {},
   "source": [
    "### Optimizer"
   ]
  },
  {
   "cell_type": "code",
   "execution_count": 18,
   "metadata": {
    "collapsed": true
   },
   "outputs": [],
   "source": [
    "train=tf.train.GradientDescentOptimizer(learning_rate=0.01).minimize(cost)"
   ]
  },
  {
   "cell_type": "markdown",
   "metadata": {},
   "source": [
    "### Predicted & Accuracy\n",
    "\n",
    "우리의 모델이 얼마나 정확한지 확인해본다"
   ]
  },
  {
   "cell_type": "code",
   "execution_count": 19,
   "metadata": {},
   "outputs": [],
   "source": [
    "prediicted = tf.cast(hypothesis >0.5, dtype=tf.float32)\n",
    "accuracy = tf.reduce_mean(tf.cast(tf.equal(prediicted,Y),dtype=tf.float32))"
   ]
  },
  {
   "cell_type": "markdown",
   "metadata": {},
   "source": [
    "### Launch graph\n",
    "\n",
    "실행하기 위해 세션을 실행한다."
   ]
  },
  {
   "cell_type": "code",
   "execution_count": 20,
   "metadata": {
    "collapsed": true
   },
   "outputs": [],
   "source": [
    "sess=tf.Session()\n",
    "sess.run(tf.global_variables_initializer())"
   ]
  },
  {
   "cell_type": "markdown",
   "metadata": {},
   "source": [
    "### Training\n",
    "학습"
   ]
  },
  {
   "cell_type": "code",
   "execution_count": 21,
   "metadata": {},
   "outputs": [
    {
     "name": "stdout",
     "output_type": "stream",
     "text": [
      "0 0.688905\n",
      "200 0.549873\n",
      "400 0.4988\n",
      "600 0.468034\n",
      "800 0.445788\n",
      "1000 0.427674\n",
      "1200 0.411858\n",
      "1400 0.397503\n",
      "1600 0.384197\n",
      "1800 0.371718\n",
      "2000 0.359941\n",
      "2200 0.348787\n",
      "2400 0.3382\n",
      "2600 0.328139\n",
      "2800 0.31857\n",
      "3000 0.309464\n",
      "3200 0.300793\n",
      "3400 0.292532\n",
      "3600 0.284658\n",
      "3800 0.27715\n",
      "4000 0.269986\n",
      "4200 0.263148\n",
      "4400 0.256616\n",
      "4600 0.250373\n",
      "4800 0.244404\n",
      "5000 0.238692\n",
      "5200 0.233223\n",
      "5400 0.227984\n",
      "5600 0.222962\n",
      "5800 0.218145\n",
      "6000 0.213522\n",
      "6200 0.209083\n",
      "6400 0.204817\n",
      "6600 0.200716\n",
      "6800 0.19677\n",
      "7000 0.192972\n",
      "7200 0.189314\n",
      "7400 0.185789\n",
      "7600 0.18239\n",
      "7800 0.179111\n",
      "8000 0.175946\n",
      "8200 0.172889\n",
      "8400 0.169936\n",
      "8600 0.167081\n",
      "8800 0.164319\n",
      "9000 0.161647\n",
      "9200 0.15906\n",
      "9400 0.156555\n",
      "9600 0.154127\n",
      "9800 0.151774\n",
      "10000 0.149491\n"
     ]
    }
   ],
   "source": [
    "for i in range(10001):\n",
    "    cost_val, _ = sess.run([cost,train],feed_dict={X: x_data, Y: y_data})\n",
    "    if i %200==0:\n",
    "        print(i,cost_val)"
   ]
  },
  {
   "cell_type": "markdown",
   "metadata": {},
   "source": [
    "### Test Model\n",
    "\n",
    "학습해서 얻은 값으로 데이터를 넣어서 값이 정확한지 확인한다."
   ]
  },
  {
   "cell_type": "code",
   "execution_count": 22,
   "metadata": {},
   "outputs": [
    {
     "name": "stdout",
     "output_type": "stream",
     "text": [
      "\n",
      "Hypothesis: [[ 0.03073832]\n",
      " [ 0.15884396]\n",
      " [ 0.30485836]\n",
      " [ 0.78138602]\n",
      " [ 0.93957758]\n",
      " [ 0.98016983]] \n",
      "Correct(Y): [[ 0.]\n",
      " [ 0.]\n",
      " [ 0.]\n",
      " [ 1.]\n",
      " [ 1.]\n",
      " [ 1.]] \n",
      "Accuracy: 1.0\n"
     ]
    }
   ],
   "source": [
    "h,c,a=sess.run([hypothesis,prediicted,accuracy],feed_dict={X: x_data, Y:y_data})\n",
    "print(\"\\nHypothesis:\",h,\"\\nCorrect(Y):\",c,\"\\nAccuracy:\",a)"
   ]
  }
 ],
 "metadata": {
  "kernelspec": {
   "display_name": "Python 3",
   "language": "python",
   "name": "python3"
  },
  "language_info": {
   "codemirror_mode": {
    "name": "ipython",
    "version": 3
   },
   "file_extension": ".py",
   "mimetype": "text/x-python",
   "name": "python",
   "nbconvert_exporter": "python",
   "pygments_lexer": "ipython3",
   "version": "3.6.3"
  }
 },
 "nbformat": 4,
 "nbformat_minor": 2
}
