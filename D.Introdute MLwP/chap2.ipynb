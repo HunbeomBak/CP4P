{
 "cells": [
  {
   "cell_type": "markdown",
   "metadata": {
    "collapsed": true
   },
   "source": [
    "# CHAPTER 2. 지도 학습"
   ]
  },
  {
   "cell_type": "markdown",
   "metadata": {},
   "source": [
    "지도학습: 샘플데이터가 입력과 출력 샘플 데이터가 있고, 주어진 입력으로부터 출력을 예측하고자 할 때 사용한다.\n",
    "\n",
    "-> 훈련 세트로 부터 머신러닝 모델을 만든다.\n",
    "\n",
    "목표: 이전에 본적없는 새로운 데이터에 대해 정확한 출력을 예측\n",
    "\n",
    "단점: 지도 학습은 훈련 데이터를 만드는데 사람의 노력이 필요\n",
    "\n",
    "장점: 자동화 하면 힘들고 어려운 작업의 속도를 높일 수 있다."
   ]
  },
  {
   "cell_type": "markdown",
   "metadata": {},
   "source": [
    "## 2.1 분류와 회귀"
   ]
  },
  {
   "cell_type": "markdown",
   "metadata": {},
   "source": [
    "### 분류\n",
    "\n",
    "분류는 미리 정의된 가능성 있는 클래스 레이블(Class label)중 하나를 예측하는 것 ( 예: 1장의 붓꽃 어플리케이션)\n",
    "\n",
    "분류는 딱 두개의 클래스로 분류하는 이진 분류(binary classificatoin)와 셋 이상의 클래스로 분류하는 다중 분류(Multiclassclassification)으로 나뉨\n",
    "\n",
    "이진분류: '예/아니오'로 나뉠 수 있는것이라고 생각하면 됨 (예시- 스팸메일 인가요? : 예/아니오)\n",
    "\n",
    "다중분류: 여러 클래스 중 하나로 분류 (예: 붓꽃 어플리케이션, 웹사이트 글로부터 어느 언어의 웹사이트인지 예측) \n",
    "\n",
    "-> 연속적이지 않음 -> 사이트 분류할때 한 언어가 아니면 다른언어임, 영어랑 프랑스어 사이에 다른 언어는 없음"
   ]
  },
  {
   "cell_type": "markdown",
   "metadata": {},
   "source": [
    "### 회귀"
   ]
  },
  {
   "cell_type": "markdown",
   "metadata": {},
   "source": [
    "연속적인 숫자( 프로그래밍 용어로 부동소수점수, 수학 용어로 실수)를 예측\n",
    "\n",
    "예시로 어떤 사람의 교육 수준, 나이, 주거지를 바탕으로 연간 소득을 예측 -> 예측된 값은 어떤 양으로서, 일정 범위 안의 어떤 숫자도 될수 있다.\n",
    "\n",
    "출력값에 연속성이 있음 -> 연소득 예측에서 40,000,000원 또는 40,000,001원을 벌 수 있음. -> 다르지만 큰 차이 없다.\n",
    "\n"
   ]
  },
  {
   "cell_type": "markdown",
   "metadata": {},
   "source": [
    "## 2.2 일반화, 과대적합, 과소적합"
   ]
  },
  {
   "cell_type": "markdown",
   "metadata": {},
   "source": [
    "일반화 (generalization)\n",
    "\n",
    "과대적합 (overfiting)\n",
    "\n",
    "과소적합 (underfiting)\n",
    "\n",
    "모델을 복잡하게 할 수록 훈련데이터에 대해서 더 정확히 예측\n",
    "\n",
    "하지만 너무 복잡해지면 훈련 세트의 각 데이터 포인트에 너무 민감해짐 -> 새로운 데이터에 일반화 잘 못함"
   ]
  },
  {
   "cell_type": "markdown",
   "metadata": {},
   "source": []
  }
 ],
 "metadata": {
  "kernelspec": {
   "display_name": "Python 3",
   "language": "python",
   "name": "python3"
  },
  "language_info": {
   "codemirror_mode": {
    "name": "ipython",
    "version": 3
   },
   "file_extension": ".py",
   "mimetype": "text/x-python",
   "name": "python",
   "nbconvert_exporter": "python",
   "pygments_lexer": "ipython3",
   "version": "3.6.3"
  }
 },
 "nbformat": 4,
 "nbformat_minor": 2
}
