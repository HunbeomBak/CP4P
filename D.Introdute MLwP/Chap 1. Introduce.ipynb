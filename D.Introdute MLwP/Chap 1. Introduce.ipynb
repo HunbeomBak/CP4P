{
 "cells": [
  {
   "cell_type": "markdown",
   "metadata": {},
   "source": [
    "# 1.1 Why Machine Learning?"
   ]
  },
  {
   "cell_type": "markdown",
   "metadata": {},
   "source": [
    "# 1.2 Why python?"
   ]
  },
  {
   "cell_type": "markdown",
   "metadata": {},
   "source": [
    "# 1.3 scikit-learn"
   ]
  },
  {
   "cell_type": "markdown",
   "metadata": {},
   "source": [
    "1. 잘 알려진 머신러닝 알고리즘부터 다양한 알고리즘 설명한 풍부한 문서 제공 :  http://scikit-learn.org/stable/documentation\n",
    "\n",
    "2. 유저가이드 : http://scikit-learn.org/stable/user_guide.html\n",
    "\n",
    "3. API 문서 : http://scikit-learn.org/stable/modules/classes.html"
   ]
  },
  {
   "cell_type": "markdown",
   "metadata": {},
   "source": [
    "# 1.4 필수 라이브러리와 도구들"
   ]
  },
  {
   "cell_type": "markdown",
   "metadata": {},
   "source": [
    "## 1.4.1 주피터 노트북"
   ]
  },
  {
   "cell_type": "markdown",
   "metadata": {},
   "source": [
    "대화식 환경"
   ]
  },
  {
   "cell_type": "markdown",
   "metadata": {},
   "source": [
    "## 1.4.2 Numpy"
   ]
  },
  {
   "cell_type": "code",
   "execution_count": 1,
   "metadata": {},
   "outputs": [
    {
     "name": "stdout",
     "output_type": "stream",
     "text": [
      "x:\n",
      "[[1 2 3]\n",
      " [4 5 6]]\n"
     ]
    }
   ],
   "source": [
    "import numpy as np\n",
    "\n",
    "x =np.array([[1,2,3],[4,5,6]])\n",
    "print(\"x:\\n{}\".format(x))"
   ]
  },
  {
   "cell_type": "markdown",
   "metadata": {},
   "source": [
    "## 1.4.3 SciPy\n",
    "과학 계산용 함수를 모아놓은 파이썬 패키지"
   ]
  },
  {
   "cell_type": "code",
   "execution_count": 2,
   "metadata": {
    "collapsed": true
   },
   "outputs": [],
   "source": [
    "from scipy import sparse"
   ]
  },
  {
   "cell_type": "markdown",
   "metadata": {},
   "source": [
    "대각선 원소는 1이고, 나머지는 0인 2차원 Numpy  배열을 만든다."
   ]
  },
  {
   "cell_type": "code",
   "execution_count": 3,
   "metadata": {},
   "outputs": [
    {
     "name": "stdout",
     "output_type": "stream",
     "text": [
      "Numpy배열:\n",
      "[[1. 0. 0. 0.]\n",
      " [0. 1. 0. 0.]\n",
      " [0. 0. 1. 0.]\n",
      " [0. 0. 0. 1.]]\n"
     ]
    }
   ],
   "source": [
    "eye = np.eye(4)\n",
    "print(\"Numpy배열:\\n{}\".format(eye))"
   ]
  },
  {
   "cell_type": "markdown",
   "metadata": {},
   "source": [
    "Numpy 배열을 CSR 포맷의 SciPy 희소 행렬로 변환 -> 0이 아닌 배열만 저장"
   ]
  },
  {
   "cell_type": "code",
   "execution_count": 4,
   "metadata": {},
   "outputs": [
    {
     "name": "stdout",
     "output_type": "stream",
     "text": [
      "SciPy의 CSR 행렬:\n",
      "  (0, 0)\t1.0\n",
      "  (1, 1)\t1.0\n",
      "  (2, 2)\t1.0\n",
      "  (3, 3)\t1.0\n"
     ]
    }
   ],
   "source": [
    "sparse_matrix = sparse.csc_matrix(eye)\n",
    "\n",
    "print(\"SciPy의 CSR 행렬:\\n{}\".format(sparse_matrix))"
   ]
  },
  {
   "cell_type": "markdown",
   "metadata": {
    "collapsed": true
   },
   "source": [
    "보통 희소 행렬을 0이 모두 채워진 2차원 배열로 만들지 않으므로 (메모리가 부족할 수 있어서) 희소 행렬을 직접 만들 수 있어야한다.\n",
    "\n",
    "다음은 COO (Coordinate) 포맷을 이용해서 앞서와 동일한 희소 행렬을 만드는 예제다"
   ]
  },
  {
   "cell_type": "code",
   "execution_count": 5,
   "metadata": {},
   "outputs": [
    {
     "name": "stdout",
     "output_type": "stream",
     "text": [
      "COO 표현:\n",
      "  (0, 0)\t1.0\n",
      "  (1, 1)\t1.0\n",
      "  (2, 2)\t1.0\n",
      "  (3, 3)\t1.0\n"
     ]
    }
   ],
   "source": [
    "data = np.ones(4)\n",
    "row_indices = np.arange(4)\n",
    "col_indices = np.arange(4)\n",
    "eye_coo =sparse.coo_matrix((data,(row_indices, col_indices)))\n",
    "print(\"COO 표현:\\n{}\".format(eye_coo))"
   ]
  },
  {
   "cell_type": "markdown",
   "metadata": {},
   "source": [
    "SciPy의 희소 행렬에 대한 자세한 내용은 SciPy 강의 노트(http://www.scipy-lectures.org/)의 2.5절을 참고하자"
   ]
  },
  {
   "cell_type": "markdown",
   "metadata": {},
   "source": [
    "## 1.4.4 matplotlib\n",
    "matplotlib(https://matplotlib.org/)은 파이썬 대표적인 과학 계산용  그래프 라이브러리이다.\n",
    "\n",
    "선 그래프, 히스토그램, 산점도 등을 지원하며 출판에 쓸 수 있을 만큼의 고품질 그래프를 그려준다.\n",
    "\n",
    "만약 주피터노트북에서 그릴때는 %matplotlib notebook 이나 %matplotlib inline 명령을 사용하면 브라우저에서 바로 이미지를 볼 수 있다.\n",
    "\n",
    "matplotlib으로 사인(sin)함수를 그려보자"
   ]
  },
  {
   "cell_type": "code",
   "execution_count": 10,
   "metadata": {
    "collapsed": true
   },
   "outputs": [],
   "source": [
    "import matplotlib.pyplot as plt\n",
    "%matplotlib inline"
   ]
  },
  {
   "cell_type": "markdown",
   "metadata": {},
   "source": [
    "-10부터 10까지 100개의 간격으로 나뉜 배열을 생성한다."
   ]
  },
  {
   "cell_type": "code",
   "execution_count": 12,
   "metadata": {
    "collapsed": true
   },
   "outputs": [],
   "source": [
    "x=np.linspace(-10,10,100)"
   ]
  },
  {
   "cell_type": "markdown",
   "metadata": {},
   "source": [
    "사인(sin)함수를 사용하여 y 배열을 생성한다."
   ]
  },
  {
   "cell_type": "code",
   "execution_count": 13,
   "metadata": {
    "collapsed": true
   },
   "outputs": [],
   "source": [
    "y=np.sin(x)"
   ]
  },
  {
   "cell_type": "markdown",
   "metadata": {},
   "source": [
    "plot 함수는 한 배열의 값을 다른 배열에 대응해서 선 그래프를 그린다."
   ]
  },
  {
   "cell_type": "code",
   "execution_count": 14,
   "metadata": {},
   "outputs": [
    {
     "data": {
      "text/plain": [
       "[<matplotlib.lines.Line2D at 0x1ba6856b080>]"
      ]
     },
     "execution_count": 14,
     "metadata": {},
     "output_type": "execute_result"
    },
    {
     "data": {
      "image/png": "[encoded data removed]",
      "text/plain": [
       "<matplotlib.figure.Figure at 0x1ba678d1940>"
      ]
     },
     "metadata": {},
     "output_type": "display_data"
    }
   ],
   "source": [
    "plt.plot(x,y,marker=\"x\")"
   ]
  },
  {
   "cell_type": "markdown",
   "metadata": {
    "collapsed": true
   },
   "source": [
    "## 1.4.5 pandas\n",
    "pandas(https://pandas.pydata.org/)는 데이터 처리와 분석을 위한 파이썬 라이브러리이다.\n",
    "\n",
    "R의 data.frame을 본떠서 설계한 DataFrame이라는 데이터 구조를 기반으로 만들어졌다.\n",
    "\n",
    "Pandas의 DataFrame은 엑셀의 스프레드시트와 비슷한 테이블형태이다.\n"
   ]
  },
  {
   "cell_type": "code",
   "execution_count": 35,
   "metadata": {
    "collapsed": true
   },
   "outputs": [],
   "source": [
    "import IPython\n",
    "import pandas as pd"
   ]
  },
  {
   "cell_type": "markdown",
   "metadata": {},
   "source": [
    "다음은 딕셔너리를 사용하여 DataFrame을 만드는 간단한 예제이다.\n",
    "\n",
    "회원 정보가 들어간 간단한 데이터셋을 생성한다."
   ]
  },
  {
   "cell_type": "code",
   "execution_count": 17,
   "metadata": {
    "collapsed": true
   },
   "outputs": [],
   "source": [
    "data = {'Name':[\"John\",\"Anna\",\"Peter\",\"Linda\"],\n",
    "        'Location':[\"New York\",\"Paris\",\"Belin\",\"London\"],\n",
    "        'Age':[24,13,53,33]}\n",
    "\n",
    "data_pandas = pd.DataFrame(data)"
   ]
  },
  {
   "cell_type": "markdown",
   "metadata": {},
   "source": [
    "IPython.display는 주피터 노트북에서 DataFrame을 미려하게 출력해줍니다"
   ]
  },
  {
   "cell_type": "code",
   "execution_count": 38,
   "metadata": {},
   "outputs": [
    {
     "data": {
      "text/html": [
       "<div>\n",
       "<style>\n",
       "    .dataframe thead tr:only-child th {\n",
       "        text-align: right;\n",
       "    }\n",
       "\n",
       "    .dataframe thead th {\n",
       "        text-align: left;\n",
       "    }\n",
       "\n",
       "    .dataframe tbody tr th {\n",
       "        vertical-align: top;\n",
       "    }\n",
       "</style>\n",
       "<table border=\"1\" class=\"dataframe\">\n",
       "  <thead>\n",
       "    <tr style=\"text-align: right;\">\n",
       "      <th></th>\n",
       "      <th>Age</th>\n",
       "      <th>Location</th>\n",
       "      <th>Name</th>\n",
       "    </tr>\n",
       "  </thead>\n",
       "  <tbody>\n",
       "    <tr>\n",
       "      <th>0</th>\n",
       "      <td>24</td>\n",
       "      <td>New York</td>\n",
       "      <td>John</td>\n",
       "    </tr>\n",
       "    <tr>\n",
       "      <th>1</th>\n",
       "      <td>13</td>\n",
       "      <td>Paris</td>\n",
       "      <td>Anna</td>\n",
       "    </tr>\n",
       "    <tr>\n",
       "      <th>2</th>\n",
       "      <td>53</td>\n",
       "      <td>Belin</td>\n",
       "      <td>Peter</td>\n",
       "    </tr>\n",
       "    <tr>\n",
       "      <th>3</th>\n",
       "      <td>33</td>\n",
       "      <td>London</td>\n",
       "      <td>Linda</td>\n",
       "    </tr>\n",
       "  </tbody>\n",
       "</table>\n",
       "</div>"
      ],
      "text/plain": [
       "   Age  Location   Name\n",
       "0   24  New York   John\n",
       "1   13     Paris   Anna\n",
       "2   53     Belin  Peter\n",
       "3   33    London  Linda"
      ]
     },
     "execution_count": 38,
     "metadata": {},
     "output_type": "execute_result"
    }
   ],
   "source": [
    "data_pandas"
   ]
  },
  {
   "cell_type": "markdown",
   "metadata": {},
   "source": [
    "Age열의 값이 30 이상인 모든 행을 선택한다."
   ]
  },
  {
   "cell_type": "code",
   "execution_count": 23,
   "metadata": {},
   "outputs": [
    {
     "name": "stdout",
     "output_type": "stream",
     "text": [
      "   Age Location   Name\n",
      "2   53    Belin  Peter\n",
      "3   33   London  Linda\n"
     ]
    }
   ],
   "source": [
    "print(data_pandas[data_pandas.Age>30])"
   ]
  },
  {
   "cell_type": "markdown",
   "metadata": {},
   "source": [
    "## 1.4.6 mglearn"
   ]
  },
  {
   "cell_type": "code",
   "execution_count": 63,
   "metadata": {},
   "outputs": [],
   "source": [
    "import mglearn"
   ]
  },
  {
   "cell_type": "markdown",
   "metadata": {},
   "source": [
    "# 1.5 파이썬2 vs 파이썬3"
   ]
  },
  {
   "cell_type": "markdown",
   "metadata": {},
   "source": [
    "# 1.6 소프트웨어 버전"
   ]
  },
  {
   "cell_type": "code",
   "execution_count": 24,
   "metadata": {},
   "outputs": [
    {
     "name": "stdout",
     "output_type": "stream",
     "text": [
      "Python 버전:3.6.1 |Anaconda 4.4.0 (64-bit)| (default, May 11 2017, 13:25:24) [MSC v.1900 64 bit (AMD64)]\n"
     ]
    }
   ],
   "source": [
    "import sys\n",
    "print(\"Python 버전:{}\".format(sys.version))"
   ]
  },
  {
   "cell_type": "code",
   "execution_count": 30,
   "metadata": {},
   "outputs": [
    {
     "name": "stdout",
     "output_type": "stream",
     "text": [
      "pandas 버전:0.20.1\n"
     ]
    }
   ],
   "source": [
    "import pandas as pd\n",
    "print(\"pandas 버전:{}\".format(pd.__version__))"
   ]
  },
  {
   "cell_type": "code",
   "execution_count": 29,
   "metadata": {},
   "outputs": [
    {
     "name": "stdout",
     "output_type": "stream",
     "text": [
      "matplotlib 버전:2.0.2\n"
     ]
    }
   ],
   "source": [
    "import matplotlib\n",
    "print(\"matplotlib 버전:{}\".format(matplotlib.__version__))"
   ]
  },
  {
   "cell_type": "code",
   "execution_count": 28,
   "metadata": {
    "scrolled": true
   },
   "outputs": [
    {
     "name": "stdout",
     "output_type": "stream",
     "text": [
      "Numpy 버전:1.14.0\n"
     ]
    }
   ],
   "source": [
    "import numpy as np\n",
    "print(\"Numpy 버전:{}\".format(np.__version__))"
   ]
  },
  {
   "cell_type": "code",
   "execution_count": 31,
   "metadata": {},
   "outputs": [
    {
     "name": "stdout",
     "output_type": "stream",
     "text": [
      "SciPy 버전:0.19.0\n"
     ]
    }
   ],
   "source": [
    "import scipy as sp\n",
    "print(\"SciPy 버전:{}\".format(sp.__version__))"
   ]
  },
  {
   "cell_type": "code",
   "execution_count": 34,
   "metadata": {},
   "outputs": [
    {
     "name": "stdout",
     "output_type": "stream",
     "text": [
      "IPython 버전:5.3.0\n"
     ]
    }
   ],
   "source": [
    "import IPython\n",
    "print(\"IPython 버전:{}\".format(IPython.__version__))"
   ]
  },
  {
   "cell_type": "code",
   "execution_count": 39,
   "metadata": {},
   "outputs": [
    {
     "name": "stdout",
     "output_type": "stream",
     "text": [
      "scikit-learn 버전:0.18.1\n"
     ]
    }
   ],
   "source": [
    "import sklearn \n",
    "print(\"scikit-learn 버전:{}\".format(sklearn.__version__))"
   ]
  },
  {
   "cell_type": "markdown",
   "metadata": {},
   "source": [
    "# 1.7 첫 번째 애플리케이션: 붓꽃의 품종 분류\n",
    "\n",
    "한 아마추어 식물하자가 들에서 발견한 붓꽃의 품종을 알고 싶다고 가정\n",
    "\n",
    "-> 붓꽃의 꽃잎과 꽃받침의 폭과 길이를 센티미터 단위로 측정 and 전문 식물학자가 setosa, versicolor, virginica 종으로 분류한 붓꽃의 데이터도 갖고 있음\n",
    "\n",
    "-> 이 측정값을 이용해 어떤 품종이지 구분 (단, 채집한 붓꽃이 위 세 종류 뿐이라고하자)\n",
    "\n",
    "\n",
    "-> 분류한 데이터가 있으므로 지도 학습에 속한다.\n",
    "\n",
    "\n",
    "->출력될 수 있는 값 (붓꽃의 종류)들을 클래스(Class)라고 한다.\n",
    "\n",
    "\n",
    "-> 몇가지 선택사항(붓꽃의 품종) 중 하나를 선택하는 문제 -> 분류(Classification) 문제\n",
    "\n",
    "->데이터포인트 하나(붓꽃 하나)에 대한 기대 출력은 꽃의 품종 -> 이런 특정 데이터 포인트에 대한 출력, 즉 품종을 레이블(Lable)이라고 한다."
   ]
  },
  {
   "cell_type": "markdown",
   "metadata": {},
   "source": [
    "## 1.7.1 데이터 적재\n",
    "사용할데이터셋은 머신러닝과 통계 분야에서 오래전부터 사용해온 붓꽃(iris) 데이터셋으로 skit-learn의 datasets 모듈에 포함되어 있다.\n",
    "\n",
    "load_iris 함수를 사용해서 데이터를 적재하자"
   ]
  },
  {
   "cell_type": "code",
   "execution_count": 65,
   "metadata": {
    "collapsed": true
   },
   "outputs": [],
   "source": [
    "from IPython.display import display\n",
    "import numpy as np\n",
    "import matplotlib.pyplot as plt\n",
    "import pandas as pd\n",
    "import mglearn"
   ]
  },
  {
   "cell_type": "code",
   "execution_count": 40,
   "metadata": {
    "collapsed": true
   },
   "outputs": [],
   "source": [
    "from sklearn.datasets import load_iris\n",
    "iris_dataset = load_iris()"
   ]
  },
  {
   "cell_type": "markdown",
   "metadata": {},
   "source": [
    "load_iris가 반환한 iris 객체는 파이썬의 딕셔너리와 유사한 Bunch 클래스의 객체 \n",
    "\n",
    "-> 키와 값으로 구성"
   ]
  },
  {
   "cell_type": "code",
   "execution_count": 41,
   "metadata": {},
   "outputs": [
    {
     "name": "stdout",
     "output_type": "stream",
     "text": [
      "iris_dataset의 키:\n",
      "dict_keys(['data', 'target', 'target_names', 'DESCR', 'feature_names'])\n"
     ]
    }
   ],
   "source": [
    "print(\"iris_dataset의 키:\\n{}\".format(iris_dataset.keys()))"
   ]
  },
  {
   "cell_type": "markdown",
   "metadata": {},
   "source": [
    "DESCR 키에는 데이터셋에 대한 간략한 설명이 들어있다. 조금만 살펴보자"
   ]
  },
  {
   "cell_type": "code",
   "execution_count": 42,
   "metadata": {},
   "outputs": [
    {
     "name": "stdout",
     "output_type": "stream",
     "text": [
      "Iris Plants Database\n",
      "====================\n",
      "\n",
      "Notes\n",
      "-----\n",
      "Data Set Characteristics:\n",
      "    :Number of Instances: 150 (50 in each of three classes)\n",
      "    :Number of Attributes: 4 numeric, predictive att\n",
      "...\n"
     ]
    }
   ],
   "source": [
    "print(iris_dataset['DESCR'][:193]+\"\\n...\")"
   ]
  },
  {
   "cell_type": "markdown",
   "metadata": {},
   "source": [
    "target_names에는 우리가 예측하려는 붓꽃 품종의 이름을 문자열 배열로 가지고 있다."
   ]
  },
  {
   "cell_type": "code",
   "execution_count": 43,
   "metadata": {},
   "outputs": [
    {
     "name": "stdout",
     "output_type": "stream",
     "text": [
      "타킷의 이름:['setosa' 'versicolor' 'virginica']\n"
     ]
    }
   ],
   "source": [
    "print(\"타킷의 이름:{}\".format(iris_dataset['target_names']))"
   ]
  },
  {
   "cell_type": "markdown",
   "metadata": {},
   "source": [
    "feature_names의 값은 각 특성을 설명하는 문자열 리스트이다."
   ]
  },
  {
   "cell_type": "code",
   "execution_count": 45,
   "metadata": {},
   "outputs": [
    {
     "name": "stdout",
     "output_type": "stream",
     "text": [
      "특성의 이름:\n",
      "['sepal length (cm)', 'sepal width (cm)', 'petal length (cm)', 'petal width (cm)']\n"
     ]
    }
   ],
   "source": [
    "print(\"특성의 이름:\\n{}\".format(iris_dataset['feature_names']))"
   ]
  },
  {
   "cell_type": "markdown",
   "metadata": {},
   "source": [
    "실제 데이터는 target과 data 필드에 들어있다.\n",
    "\n",
    "data는 꽃잎의 길이와 폭, 꽃받침의 길이와 폭을 수치값으로 가지고 있는 Numpy 배열이다"
   ]
  },
  {
   "cell_type": "code",
   "execution_count": 46,
   "metadata": {},
   "outputs": [
    {
     "name": "stdout",
     "output_type": "stream",
     "text": [
      "data타입:<class 'numpy.ndarray'>\n"
     ]
    }
   ],
   "source": [
    "print(\"data타입:{}\".format(type(iris_dataset['data'])))"
   ]
  },
  {
   "cell_type": "markdown",
   "metadata": {},
   "source": [
    "data 배열의 행은 개개의 꽃이 되며, 열은 각 꽃에서 구한 네 개의 측정치이다."
   ]
  },
  {
   "cell_type": "code",
   "execution_count": 48,
   "metadata": {},
   "outputs": [
    {
     "name": "stdout",
     "output_type": "stream",
     "text": [
      "data크기:(150, 4)\n"
     ]
    }
   ],
   "source": [
    "print(\"data크기:{}\".format(iris_dataset['data'].shape))"
   ]
  },
  {
   "cell_type": "markdown",
   "metadata": {},
   "source": [
    "이 배열은 150개의 붓꽃 데이터를 가지고 있다. 머신러닝에서 각 아이템은 샘플이라고 하고, 속성은 특성이라고 한다.\n",
    "\n",
    "-> data 배열의 크기는 샘플의 수에, 특성의 수를 곱한 값이 된다. (이는 scikit-learn의 스타일이며 항상 데이터가 이런 구조일 거라 가정하고 있다.)\n",
    "\n",
    "다음은 맨 처음 다섯 샘플의 특성값이다"
   ]
  },
  {
   "cell_type": "code",
   "execution_count": 49,
   "metadata": {},
   "outputs": [
    {
     "name": "stdout",
     "output_type": "stream",
     "text": [
      "data의 처음 다섯 행:\n",
      "[[5.1 3.5 1.4 0.2]\n",
      " [4.9 3.  1.4 0.2]\n",
      " [4.7 3.2 1.3 0.2]\n",
      " [4.6 3.1 1.5 0.2]\n",
      " [5.  3.6 1.4 0.2]]\n"
     ]
    }
   ],
   "source": [
    "print(\"data의 처음 다섯 행:\\n{}\".format(iris_dataset['data'][:5]))"
   ]
  },
  {
   "cell_type": "markdown",
   "metadata": {},
   "source": [
    "다섯 붓꽃 모두 꽃잎의 폭은 0.2 cm, 첫번째 꽃이 가장긴 5.1 cm\n",
    "\n",
    "target은 각 원소가 붓꽃 하나에 해당하는 1차원 배열이다."
   ]
  },
  {
   "cell_type": "code",
   "execution_count": 50,
   "metadata": {},
   "outputs": [
    {
     "name": "stdout",
     "output_type": "stream",
     "text": [
      "target의 크기:(150,)\n"
     ]
    }
   ],
   "source": [
    "print(\"target의 크기:{}\".format(iris_dataset['target'].shape))"
   ]
  },
  {
   "cell_type": "markdown",
   "metadata": {},
   "source": [
    "붓꽃의 종류는 0에서 2까지 정수로 기록되어있음"
   ]
  },
  {
   "cell_type": "code",
   "execution_count": 51,
   "metadata": {},
   "outputs": [
    {
     "name": "stdout",
     "output_type": "stream",
     "text": [
      "target의 크기:[0 0 0 0 0 0 0 0 0 0 0 0 0 0 0 0 0 0 0 0 0 0 0 0 0 0 0 0 0 0 0 0 0 0 0 0 0\n",
      " 0 0 0 0 0 0 0 0 0 0 0 0 0 1 1 1 1 1 1 1 1 1 1 1 1 1 1 1 1 1 1 1 1 1 1 1 1\n",
      " 1 1 1 1 1 1 1 1 1 1 1 1 1 1 1 1 1 1 1 1 1 1 1 1 1 1 2 2 2 2 2 2 2 2 2 2 2\n",
      " 2 2 2 2 2 2 2 2 2 2 2 2 2 2 2 2 2 2 2 2 2 2 2 2 2 2 2 2 2 2 2 2 2 2 2 2 2\n",
      " 2 2]\n"
     ]
    }
   ],
   "source": [
    "print(\"target의 크기:{}\".format(iris_dataset['target']))"
   ]
  },
  {
   "cell_type": "markdown",
   "metadata": {},
   "source": [
    "숫자의 의미는 iris['target_names]배열에서 확인할 수 있는데 0은 setosa, 1은 versicolor, 2는 virginica 이다"
   ]
  },
  {
   "cell_type": "markdown",
   "metadata": {},
   "source": [
    "## 1.7.2 성과 측정: 훈련 데이터와 테스트 데이터\n",
    "\n",
    "데이터로 머신러닝 모델 만들고 새로운 데이터의 품종 예측 -> 만든 모델을 새 데이터에 적용하기 전에 이 모델이 진짜 잘 작동하는지 확인해야함\n",
    "\n",
    "만든 모델의 예측을 신뢰할 수 있는지 알아야함\n",
    "\n",
    "모델을 만들때 쓴 데이터는 평가목적으로 쓸 수 없음 -> 이전에 본적없는 새 데이터를 적용해야함 \n",
    "\n",
    "->가지고 있는 데이터를 만들때 사용할 훈련데이터(또는 훈련 세트, training set)와 얼마나 잘 작동하는데 확인할때 사용할 테스트 데이터(테스트 세트, test set)로 나눈다.\n",
    "\n",
    "상황에 따라 다르지만 대략 비율은 훈련 75%, 테스트 25%\n",
    "\n",
    "scikit-learn에서 데이터는 대문자 X, 레이블은 소문자 y로 표시\n",
    "\n",
    "train_test_split의 반환값을 저장할때 이 규칙을 사용하자"
   ]
  },
  {
   "cell_type": "code",
   "execution_count": 53,
   "metadata": {
    "collapsed": true
   },
   "outputs": [],
   "source": [
    "from sklearn.model_selection import train_test_split\n",
    "\n",
    "X_train, X_test, y_train, y_test = train_test_split(iris_dataset['data'],iris_dataset['target'], random_state=0)"
   ]
  },
  {
   "cell_type": "markdown",
   "metadata": {},
   "source": [
    "데이터가 포인트가 레이블 순서대로 정렬되어 있으므로 섞지 않으면 테스트데이터의 레이블은 모두 2가 되버린다.\n",
    "\n",
    "따라서 테스트 세트가 세 클래스의 데이터를 모두 포함하도록 섞어야한다.\n",
    "\n",
    "이 함수를 여러 번 실행해도 결과가 똑깥이 나오도록 유사 난수 생성기에 넣을 난수 초깃값을 random_state 매개변수로 전달한다.\n",
    "\n",
    "이렇게 하면 이 코드는 항상 같은 결과를 출력한다.\n",
    "\n",
    "train_test_split의 반환값은 X_train, X_test, y_train, y_test 이며 모두 Numpy 배열이고 X_train은 전체 데이터셋의 75%, X_test는 25%를 담고 있다."
   ]
  },
  {
   "cell_type": "code",
   "execution_count": 59,
   "metadata": {},
   "outputs": [
    {
     "name": "stdout",
     "output_type": "stream",
     "text": [
      "X_train 크기:(112, 4)\n",
      "y_train 크기:(112,)\n",
      "------------------------------\n",
      "X_test 크기:(38, 4)\n",
      "y_test 크기:(38,)\n"
     ]
    }
   ],
   "source": [
    "print(\"X_train 크기:{}\".format(X_train.shape))\n",
    "print(\"y_train 크기:{}\".format(y_train.shape))\n",
    "print(\"-\"*30)\n",
    "print(\"X_test 크기:{}\".format(X_test.shape))\n",
    "print(\"y_test 크기:{}\".format(y_test.shape))\n"
   ]
  },
  {
   "cell_type": "markdown",
   "metadata": {},
   "source": [
    "## 1.7.3 가장 먼저 할 일 : 데이터 살펴보기\n",
    "\n",
    "머신러닝 모델 만들기 전에 데이터를 조사하여 머신러닝이 필요한지, 필요한 정보가 누락되었는지 확인해야한다. 또 비정상적인 갑시나 특이한 값들도 찾을 수 있다.\n",
    "\n",
    "예를들어 붓꽃데이터에서 일부는 cm가 아니라 인치일 수도 있다. (실제로 데이터에 일관성이 없거나 이상한 값이 들어가 있는 경우가 종종 있다.)\n",
    "\n",
    "이를 위해 데이터를 시각화 하는것은 아주 좋은 방법이다. 산점도(scatter plot)가 그 중 하나이다.\n",
    "\n",
    "산점도는 데이터에서 한 특성을 x 축에 놓고 다른 하나는 y 축에 놓아 각 데이터 포인트를 하나의 점으로 나타내는 그래프이다. \n",
    "\n",
    "아쉽지만 컴퓨터 화면은 2차원이라 한번에 2개 혹은 3개의 특성만 그릴 수 있다. \n",
    "\n",
    "따라서 이 그래프로는 3개 이상의 특성을 표현하기 어렵다. 대신 모든 특성을 짝지어 만드는 산점도 행렬을 사용할 수 있다.\n",
    "\n",
    "4개의 특성을 가진 붓꽃의 경우 특성의 수가 적다면 꽤 괜찮은 방법이지만 산점도 행렬은 한 그래프에 모든 특성의 관계가 나타나는 것이 아니기 때문에 각각의 나누어진 산점도 그래프에는 드러나지 않는 중요한 성질이 있을 수 있다는 것을 잊지 말아야한다.\n",
    "\n",
    "훈련 세트를 사용해 4개의 특성을 가진 산점도 행렬로 그래프를 그릴려면 먼저 Numpy 배열을 pandas의 DataFrame으로 변경해야한다."
   ]
  },
  {
   "cell_type": "code",
   "execution_count": 60,
   "metadata": {
    "collapsed": true
   },
   "outputs": [],
   "source": [
    "# X_train 데이터를 사용해서 데이터 프레임을 만든다\n",
    "# 열의 이름은 iris_dataset.feature_names에 있는 문자열을 사용한다.\n",
    "iris_dataframe =pd.DataFrame(X_train, columns=iris_dataset.feature_names)"
   ]
  },
  {
   "cell_type": "markdown",
   "metadata": {},
   "source": [
    "데이터 프레임을 사용해 y_train에 따라 색으로 구분된 산점도 행렬을 만든다."
   ]
  },
  {
   "cell_type": "code",
   "execution_count": 66,
   "metadata": {},
   "outputs": [
    {
     "data": {
      "text/plain": [
       "array([[<matplotlib.axes._subplots.AxesSubplot object at 0x000001BA6D986668>,\n",
       "        <matplotlib.axes._subplots.AxesSubplot object at 0x000001BA6E032128>,\n",
       "        <matplotlib.axes._subplots.AxesSubplot object at 0x000001BA6E056438>,\n",
       "        <matplotlib.axes._subplots.AxesSubplot object at 0x000001BA6E0F83C8>],\n",
       "       [<matplotlib.axes._subplots.AxesSubplot object at 0x000001BA6E11A5C0>,\n",
       "        <matplotlib.axes._subplots.AxesSubplot object at 0x000001BA6E11A588>,\n",
       "        <matplotlib.axes._subplots.AxesSubplot object at 0x000001BA6E1CE518>,\n",
       "        <matplotlib.axes._subplots.AxesSubplot object at 0x000001BA6E283DD8>],\n",
       "       [<matplotlib.axes._subplots.AxesSubplot object at 0x000001BA6DF9BC18>,\n",
       "        <matplotlib.axes._subplots.AxesSubplot object at 0x000001BA6E31F6A0>,\n",
       "        <matplotlib.axes._subplots.AxesSubplot object at 0x000001BA6E378E10>,\n",
       "        <matplotlib.axes._subplots.AxesSubplot object at 0x000001BA6E3EA4A8>],\n",
       "       [<matplotlib.axes._subplots.AxesSubplot object at 0x000001BA6E44A828>,\n",
       "        <matplotlib.axes._subplots.AxesSubplot object at 0x000001BA6E9B84E0>,\n",
       "        <matplotlib.axes._subplots.AxesSubplot object at 0x000001BA6EA17E10>,\n",
       "        <matplotlib.axes._subplots.AxesSubplot object at 0x000001BA6EA58240>]],\n",
       "      dtype=object)"
      ]
     },
     "execution_count": 66,
     "metadata": {},
     "output_type": "execute_result"
    },
    {
     "data": {
      "image/png": "[encoded data removed]",
      "text/plain": [
       "<matplotlib.figure.Figure at 0x1ba6dbc2860>"
      ]
     },
     "metadata": {},
     "output_type": "display_data"
    }
   ],
   "source": [
    "pd.plotting.scatter_matrix(iris_dataframe,c=y_train,figsize=(15,15),marker='o',hist_kwds={'bins':20},s=60,alpha=.8, cmap=mglearn.cm3)"
   ]
  },
  {
   "cell_type": "markdown",
   "metadata": {},
   "source": [
    "그래프를 보면 세 클래스가 꽃잎과 꽃받침의 측정값에 다라 비교적 잘 구분되는 것을 알 수 있다.\n",
    "\n",
    "-> 클래스를 잘 구분하도록 머신러닝 모델을 학습시킬 수 있다."
   ]
  },
  {
   "cell_type": "markdown",
   "metadata": {},
   "source": [
    "## 1.7.4 첫 번째 머신러닝 모델: k-최근접 이웃 알고리즘\n",
    "\n"
   ]
  },
  {
   "cell_type": "code",
   "execution_count": 67,
   "metadata": {
    "collapsed": true
   },
   "outputs": [],
   "source": [
    "from sklearn.neighbors import KNeighborsClassifier\n",
    "knn = KNeighborsClassifier(n_neighbors=1)"
   ]
  },
  {
   "cell_type": "markdown",
   "metadata": {},
   "source": [
    "knn 객체는"
   ]
  },
  {
   "cell_type": "code",
   "execution_count": 69,
   "metadata": {},
   "outputs": [
    {
     "data": {
      "text/plain": [
       "KNeighborsClassifier(algorithm='auto', leaf_size=30, metric='minkowski',\n",
       "           metric_params=None, n_jobs=1, n_neighbors=1, p=2,\n",
       "           weights='uniform')"
      ]
     },
     "execution_count": 69,
     "metadata": {},
     "output_type": "execute_result"
    }
   ],
   "source": [
    "knn.fit(X_train,y_train)"
   ]
  },
  {
   "cell_type": "markdown",
   "metadata": {},
   "source": [
    "fit 매서드는"
   ]
  },
  {
   "cell_type": "markdown",
   "metadata": {},
   "source": [
    "## 1.7.5 예측하기\n",
    "이제 이 모델을 사용"
   ]
  },
  {
   "cell_type": "code",
   "execution_count": 71,
   "metadata": {},
   "outputs": [
    {
     "name": "stdout",
     "output_type": "stream",
     "text": [
      "X_new.shape:(1, 4)\n"
     ]
    }
   ],
   "source": [
    "X_new = np.array([[5, 2.9,1,0.2]])\n",
    "print(\"X_new.shape:{}\".format(X_new.shape))"
   ]
  },
  {
   "cell_type": "markdown",
   "metadata": {},
   "source": [
    "붓꽃 하나의"
   ]
  },
  {
   "cell_type": "code",
   "execution_count": 73,
   "metadata": {},
   "outputs": [
    {
     "name": "stdout",
     "output_type": "stream",
     "text": [
      "예측:[0]\n",
      "예측한 타깃의 이름:['setosa']\n"
     ]
    }
   ],
   "source": [
    "prediction = knn.predict(X_new)\n",
    "print(\"예측:{}\".format(prediction))\n",
    "print(\"예측한 타깃의 이름:{}\".format(iris_dataset['target_names'][prediction]))"
   ]
  },
  {
   "cell_type": "markdown",
   "metadata": {},
   "source": [
    "우리가 만든 모델"
   ]
  },
  {
   "cell_type": "markdown",
   "metadata": {},
   "source": [
    "## 1.7.6 모델 평가하기"
   ]
  },
  {
   "cell_type": "markdown",
   "metadata": {},
   "source": [
    "테스트 세트 사용"
   ]
  },
  {
   "cell_type": "code",
   "execution_count": 74,
   "metadata": {},
   "outputs": [
    {
     "name": "stdout",
     "output_type": "stream",
     "text": [
      "테스트 세트에 대한 예측값:\n",
      "[2 1 0 2 0 2 0 1 1 1 2 1 1 1 1 0 1 1 0 0 2 1 0 0 2 0 0 1 1 0 2 1 0 2 2 1 0\n",
      " 2]\n"
     ]
    }
   ],
   "source": [
    "y_pred = knn.predict(X_test)\n",
    "print(\"테스트 세트에 대한 예측값:\\n{}\".format(y_pred))"
   ]
  },
  {
   "cell_type": "code",
   "execution_count": 75,
   "metadata": {},
   "outputs": [
    {
     "name": "stdout",
     "output_type": "stream",
     "text": [
      "테스트 세트의 정확도:0.97\n"
     ]
    }
   ],
   "source": [
    "print(\"테스트 세트의 정확도:{:.2f}\".format(np.mean(y_pred==y_test)))"
   ]
  },
  {
   "cell_type": "markdown",
   "metadata": {},
   "source": [
    "또 knn 객체의 score 메서드로도 테스트 세트의 정확도를 계산"
   ]
  },
  {
   "cell_type": "code",
   "execution_count": 79,
   "metadata": {},
   "outputs": [
    {
     "name": "stdout",
     "output_type": "stream",
     "text": [
      "테스트 세트의 정확도:0.97\n"
     ]
    }
   ],
   "source": [
    "print(\"테스트 세트의 정확도:{:.2f}\".format(knn.score(X_test, y_test)))"
   ]
  },
  {
   "cell_type": "code",
   "execution_count": null,
   "metadata": {
    "collapsed": true
   },
   "outputs": [],
   "source": []
  }
 ],
 "metadata": {
  "kernelspec": {
   "display_name": "Python 3",
   "language": "python",
   "name": "python3"
  },
  "language_info": {
   "codemirror_mode": {
    "name": "ipython",
    "version": 3
   },
   "file_extension": ".py",
   "mimetype": "text/x-python",
   "name": "python",
   "nbconvert_exporter": "python",
   "pygments_lexer": "ipython3",
   "version": "3.6.1"
  }
 },
 "nbformat": 4,
 "nbformat_minor": 2
}
