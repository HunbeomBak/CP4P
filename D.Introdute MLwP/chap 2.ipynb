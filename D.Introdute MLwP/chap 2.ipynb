{
 "cells": [
  {
   "cell_type": "markdown",
   "metadata": {},
   "source": [
    "# CHAPTER 2. 지도 학습\n",
    "지도학습: 샘플데이터가 입력과 출력 샘플 데이터가 있고, 주어진 입력으로부터 출력을 예측하고자 할 때 사용한다.\n",
    "\n",
    "-> 훈련 세트로 부터 머신러닝 모델을 만든다.\n",
    "\n",
    "목표: 이전에 본적없는 새로운 데이터에 대해 정확한 출력을 예측\n",
    "\n",
    "단점: 지도 학습은 훈련 데이터를 만드는데 사람의 노력이 필요\n",
    "\n",
    "장점: 자동화 하면 힘들고 어려운 작업의 속도를 높일 수 있다"
   ]
  },
  {
   "cell_type": "markdown",
   "metadata": {},
   "source": [
    "## 2.1 분류와 희귀\n",
    "\n",
    "# 분류 \n",
    "분류는 미리 정의된 가능성 있는 클래스 레이블(Class label)중 하나를 예측하는 것 ( 예: 1장의 붓꽃 어플리케이션)\n",
    "\n",
    "분류는 딱 두개의 클래스로 분류하는 이진 분류(binary classificatoin)와 셋 이상의 클래스로 분류하는 다중 분류(Multiclassclassification)으로 나뉨\n",
    "\n",
    "이진분류: '예/아니오'로 나뉠 수 있는것이라고 생각하면 됨 (예시- 스팸메일 인가요? : 예/아니오)\n",
    "\n",
    "다중분류: 여러 클래스 중 하나로 분류 (예: 붓꽃 어플리케이션, 웹사이트 글로부터 어느 언어의 웹사이트인지 예측) \n",
    "\n",
    "-> 연속적이지 않음 -> 사이트 분류할때 한 언어가 아니면 다른언어임, 영어랑 프랑스어 사이에 다른 언어는 없음\n",
    "\n",
    "## 회귀\n",
    "\n",
    "연속적인 숫자( 프로그래밍 용어로 부동소수점수, 수학 용어로 실수)를 예측\n",
    "\n",
    "예시로 어떤 사람의 교육 수준, 나이, 주거지를 바탕으로 연간 소득을 예측 -> 예측된 값은 어떤 양으로서, 일정 범위 안의 어떤 숫자도 될수 있다.\n",
    "\n",
    "출력값에 연속성이 있음 -> 연소득 예측에서 40,000,000원 또는 40,000,001원을 벌 수 있음. -> 다르지만 큰 차이 없다."
   ]
  },
  {
   "cell_type": "markdown",
   "metadata": {},
   "source": [
    "## 2.2 일반화, 과대적합, 과소적합\n",
    "\n",
    "일반화 (generalization)\n",
    "\n",
    "과대적합 (overfiting)\n",
    "\n",
    "과소적합 (underfiting)\n",
    "\n",
    "모델을 복잡하게 할 수록 훈련데이터에 대해서 더 정확히 예측\n",
    "\n",
    "하지만 너무 복잡해지면 훈련 세트의 각 데이터 포인트에 너무 민감해짐 -> 새로운 데이터에 일반화 잘 못함"
   ]
  },
  {
   "cell_type": "markdown",
   "metadata": {
    "collapsed": true
   },
   "source": [
    "## 2.3 지도 학습 알고리즘\n",
    "\n",
    "다양한거 알아보고 장단점도 알아보자"
   ]
  },
  {
   "cell_type": "code",
   "execution_count": 1,
   "metadata": {
    "collapsed": true
   },
   "outputs": [],
   "source": [
    "from IPython.display import display\n",
    "import mglearn\n",
    "import numpy as np\n",
    "import pandas as pd\n",
    "import matplotlib.pyplot as plt\n",
    "%matplotlib inline"
   ]
  },
  {
   "cell_type": "markdown",
   "metadata": {},
   "source": [
    "## 2.3.1 예제에 사용할 데이터셋\n",
    "\n",
    "### 분류(인위적)\n",
    "어떤 데이터셋은 작고 인위적이고 알고리즘의 특징을 부각하기 위해 만든것\n",
    "실제  샘플로 만든 데이터도 있다.\n",
    "\n",
    "데이터 셋을 만듬 -> forge 데이터셋은 인위적으로 만든 이진 분류 세트."
   ]
  },
  {
   "cell_type": "code",
   "execution_count": 2,
   "metadata": {
    "collapsed": true
   },
   "outputs": [],
   "source": [
    "X,y = mglearn.datasets.make_forge()"
   ]
  },
  {
   "cell_type": "markdown",
   "metadata": {},
   "source": [
    "산점도를 그리자"
   ]
  },
  {
   "cell_type": "code",
   "execution_count": 3,
   "metadata": {},
   "outputs": [
    {
     "name": "stdout",
     "output_type": "stream",
     "text": [
      "X.shape:(26, 2)\n"
     ]
    },
    {
     "data": {
      "image/png": "[encoded data removed]",
      "text/plain": [
       "<matplotlib.figure.Figure at 0x251ca9429b0>"
      ]
     },
     "metadata": {},
     "output_type": "display_data"
    }
   ],
   "source": [
    "mglearn.discrete_scatter(X[:,0],X[:,1],y)\n",
    "plt.legend([\"Class 0\", \"Class 1\"], loc=4)\n",
    "plt.xlabel(\"First Feature\")\n",
    "plt.ylabel(\"Second Feauture\")\n",
    "print(\"X.shape:{}\".format(X.shape))"
   ]
  },
  {
   "cell_type": "markdown",
   "metadata": {},
   "source": [
    "데이터포인트 26개, 특성 2개"
   ]
  },
  {
   "cell_type": "markdown",
   "metadata": {},
   "source": [
    "### 회귀(인위적)\n",
    "인위적으로 만든 wave데이터셋 사용\n",
    "\n",
    "wave 데이터세트 : 입력 특성 하나와 모델링할 타깃 변수( 또는 응답) 을 가짐"
   ]
  },
  {
   "cell_type": "code",
   "execution_count": 4,
   "metadata": {},
   "outputs": [
    {
     "data": {
      "text/plain": [
       "<matplotlib.text.Text at 0x251caac33c8>"
      ]
     },
     "execution_count": 4,
     "metadata": {},
     "output_type": "execute_result"
    },
    {
     "data": {
      "image/png": "[encoded data removed]",
      "text/plain": [
       "<matplotlib.figure.Figure at 0x251ca942128>"
      ]
     },
     "metadata": {},
     "output_type": "display_data"
    }
   ],
   "source": [
    "X,y=mglearn.datasets.make_wave(n_samples=40)\n",
    "plt.plot(X,y,'o')\n",
    "plt.ylim(-3,3)\n",
    "plt.xlabel(\"Feature\")\n",
    "plt.ylabel(\"Target\")"
   ]
  },
  {
   "cell_type": "markdown",
   "metadata": {},
   "source": [
    "저차원을 예시로 들자 (저차원 데이터셋에서 얻은 직관이 고차원 데이터셋에서 그대로 유지 되지 않을 수 있음)"
   ]
  },
  {
   "cell_type": "markdown",
   "metadata": {},
   "source": [
    "scikit-learn에 들어있는 실제 데이터셋 두개도 사용해보자\n",
    "### 실제 분류 데이터 : 위스콘신 유방암 데이터\n",
    "유방암 종양의 임상 데이터를 기록 -> 각 종양은 양성(암X)과 악성(암) 종양으로 레이블 됨-> 조직데이터로 양성인지 악성인지 예측가능\n",
    "\n",
    "scikit-learn에 있는 load_breast_cancer 함수로 불러옴"
   ]
  },
  {
   "cell_type": "code",
   "execution_count": 5,
   "metadata": {},
   "outputs": [
    {
     "name": "stdout",
     "output_type": "stream",
     "text": [
      "cancer.keys():\n",
      "dict_keys(['data', 'target', 'target_names', 'DESCR', 'feature_names'])\n"
     ]
    }
   ],
   "source": [
    "from sklearn.datasets import load_breast_cancer\n",
    "cancer = load_breast_cancer()\n",
    "print(\"cancer.keys():\\n{}\".format(cancer.keys()))"
   ]
  },
  {
   "cell_type": "markdown",
   "metadata": {},
   "source": [
    "scikit-learn에 포함된 데이터셋은 실제 데이터와 데이터 셋 관련 정보를 담고 있는 Bunch 객체에 저장\n",
    "\n",
    "-> Bunch 객체는 파이선 딕셔너리와 비슷하지만 점 표기법 사용가능 -> bunch['key]대신 bunch.key 사용 가능\n"
   ]
  },
  {
   "cell_type": "code",
   "execution_count": 6,
   "metadata": {},
   "outputs": [
    {
     "name": "stdout",
     "output_type": "stream",
     "text": [
      "유방함 데이터의 형태:(569, 30)\n"
     ]
    }
   ],
   "source": [
    "print(\"유방함 데이터의 형태:{}\".format(cancer.data.shape))"
   ]
  },
  {
   "cell_type": "markdown",
   "metadata": {},
   "source": [
    "이 데이터셋은 569개의 데이터 포인트, 특성 30개 -> 악성과 양성은 각각 몇개일까?"
   ]
  },
  {
   "cell_type": "code",
   "execution_count": 7,
   "metadata": {},
   "outputs": [
    {
     "name": "stdout",
     "output_type": "stream",
     "text": [
      "클래스 별 샘플 개수 :\n",
      "{'malignant': 212, 'benign': 357}\n"
     ]
    }
   ],
   "source": [
    "print(\"클래스 별 샘플 개수 :\\n{}\".format({n:v for n, v in zip(cancer.target_names, np.bincount(cancer.target))}))"
   ]
  },
  {
   "cell_type": "markdown",
   "metadata": {},
   "source": [
    "양성(benign): 357개, 음성(malignant):212개\n",
    "\n",
    "feature_names 속성을 확인하면 각 특성의 의미를 알 수 있음"
   ]
  },
  {
   "cell_type": "code",
   "execution_count": 8,
   "metadata": {
    "scrolled": true
   },
   "outputs": [
    {
     "name": "stdout",
     "output_type": "stream",
     "text": [
      "특성의 이름:\n",
      "['mean radius' 'mean texture' 'mean perimeter' 'mean area'\n",
      " 'mean smoothness' 'mean compactness' 'mean concavity'\n",
      " 'mean concave points' 'mean symmetry' 'mean fractal dimension'\n",
      " 'radius error' 'texture error' 'perimeter error' 'area error'\n",
      " 'smoothness error' 'compactness error' 'concavity error'\n",
      " 'concave points error' 'symmetry error' 'fractal dimension error'\n",
      " 'worst radius' 'worst texture' 'worst perimeter' 'worst area'\n",
      " 'worst smoothness' 'worst compactness' 'worst concavity'\n",
      " 'worst concave points' 'worst symmetry' 'worst fractal dimension']\n"
     ]
    }
   ],
   "source": [
    "print(\"특성의 이름:\\n{}\".format(cancer.feature_names))"
   ]
  },
  {
   "cell_type": "markdown",
   "metadata": {},
   "source": [
    "데이터에 관한 더 자세한 정보는 cancer.DESCR에서 확인할 수 있음"
   ]
  },
  {
   "cell_type": "markdown",
   "metadata": {},
   "source": [
    "### 회귀 분석용 실제 데이터 : 보스턴 주택가격\n",
    "\n",
    "범죄율, 찰스강 인접도, 고속도로 접근성 등의 정보를 이용 -> 1970년대 보스턴 주변 주택 평균 가격 예측"
   ]
  },
  {
   "cell_type": "code",
   "execution_count": 9,
   "metadata": {},
   "outputs": [
    {
     "name": "stdout",
     "output_type": "stream",
     "text": [
      "데이터 형태:(506, 13)\n"
     ]
    }
   ],
   "source": [
    "from sklearn.datasets import load_boston\n",
    "boston = load_boston()\n",
    "print(\"데이터 형태:{}\".format(boston.data.shape))"
   ]
  },
  {
   "cell_type": "markdown",
   "metadata": {},
   "source": [
    "506개의 데이터포인트와 특성 13개\n",
    "\n",
    "boston 객체의 DESCR 속성에서 더 자세한 정보 확인 할 수 있음\n",
    "\n",
    "13개의 입력 특성뿐 아니라 특성끼리 곱하여(상호작용) 의도적으로 확장 -> 특성의 곱도 특성으로 생각함 -> 특성공학(4장에서 나올것)\n",
    "\n",
    "유도된 데이터셋은 아래 코드로 불러옴"
   ]
  },
  {
   "cell_type": "code",
   "execution_count": 10,
   "metadata": {},
   "outputs": [
    {
     "name": "stdout",
     "output_type": "stream",
     "text": [
      "X.shape:(506, 104)\n"
     ]
    }
   ],
   "source": [
    "X,y =mglearn.datasets.load_extended_boston()\n",
    "print(\"X.shape:{}\".format(X.shape))"
   ]
  },
  {
   "cell_type": "markdown",
   "metadata": {},
   "source": [
    "13개의 원래 특성에 13개씩에서 2개씩 (중복포함) 짝지은 91개 특성 더해 총 104개 됨"
   ]
  },
  {
   "cell_type": "markdown",
   "metadata": {},
   "source": [
    "## 2.3.2 k-최근법 이웃\n",
    "k-NN ( k-Nearest Neigbors ) 알고리즘은 가장 간단한 머신러닝 알고리즘 -> 훈련 데이터셋을 그냥 저장하는 것이 모델 만드는게 전부\n",
    "\n",
    "새로운 포인트에 대해 예측할 땐 알고리즘이 훈련 데이터셋에서 가장 가까운 데이터 포인트(최근접 이웃)을 찾음\n",
    "\n",
    "### k-최근접 이웃 분류\n",
    "가장 가까운 훈련 데이터 포인트 하나를 최근접 이웃으로 찾아 예측 -> 이 훈련 데이터 포인트의 출력이 예측됨\n",
    "\n",
    "forge데이터셋을 분류해보자"
   ]
  },
  {
   "cell_type": "code",
   "execution_count": 11,
   "metadata": {},
   "outputs": [
    {
     "data": {
      "image/png": "[encoded data removed]",
      "text/plain": [
       "<matplotlib.figure.Figure at 0x251caae84a8>"
      ]
     },
     "metadata": {},
     "output_type": "display_data"
    }
   ],
   "source": [
    "mglearn.plots.plot_knn_classification(n_neighbors=1)"
   ]
  },
  {
   "cell_type": "markdown",
   "metadata": {},
   "source": [
    "데이터 포인트 3개 추가( 별모양 ) -> 가장 가까운 포인트 데이터 연결 -> 1-최근접 이웃 알고리즘의 예측은 가장 가까운 데이터 포인트의 레이블\n",
    "\n",
    "1개가 아니라 k개 선택 가능 (그래서 k-최근접 이웃 알고리즘이라 부름) -> 둘 이상의 이웃을 선택할때는 레이블을 정하기 위해 투표함 -\n",
    "\n",
    "-> 데이터 포인트에 클래스1이 몇개 클래스0이 몇개인지 셈 -> 이웃이 더 많은 클래스를 레이블로 지정\n",
    "\n",
    "k=3"
   ]
  },
  {
   "cell_type": "code",
   "execution_count": 12,
   "metadata": {},
   "outputs": [
    {
     "data": {
      "image/png": "[encoded data removed]",
      "text/plain": [
       "<matplotlib.figure.Figure at 0x251a76d8eb8>"
      ]
     },
     "metadata": {},
     "output_type": "display_data"
    }
   ],
   "source": [
    "mglearn.plots.plot_knn_classification(n_neighbors=3)"
   ]
  },
  {
   "cell_type": "markdown",
   "metadata": {},
   "source": [
    "클래스가 다수 일때도 적용 가능 -> 클래스가 여러개이면 각 클래스에 속한 이웃이 몇 개인지를 헤아려 가장 많은 클래스를 예측값으로 사용\n",
    "\n",
    "scikit-learn을 사용해서 k-최근법 이웃 알고리즘 적용하자 -> train세트와 test세트로 나눔"
   ]
  },
  {
   "cell_type": "code",
   "execution_count": 13,
   "metadata": {
    "collapsed": true
   },
   "outputs": [],
   "source": [
    "from sklearn.model_selection import train_test_split\n",
    "X, y=mglearn.datasets.make_forge()\n",
    "\n",
    "X_train, X_test, y_train, y_test = train_test_split(X, y, random_state = 0)"
   ]
  },
  {
   "cell_type": "markdown",
   "metadata": {},
   "source": [
    "임포트 -> 이웃 수를 3으로 지정"
   ]
  },
  {
   "cell_type": "code",
   "execution_count": 14,
   "metadata": {
    "collapsed": true
   },
   "outputs": [],
   "source": [
    "from sklearn.neighbors import KNeighborsClassifier\n",
    "clf = KNeighborsClassifier(n_neighbors=3)"
   ]
  },
  {
   "cell_type": "markdown",
   "metadata": {},
   "source": [
    "train세트 학습 -> KNeighborsClassifier에서는 저장"
   ]
  },
  {
   "cell_type": "code",
   "execution_count": 15,
   "metadata": {},
   "outputs": [
    {
     "data": {
      "text/plain": [
       "KNeighborsClassifier(algorithm='auto', leaf_size=30, metric='minkowski',\n",
       "           metric_params=None, n_jobs=1, n_neighbors=3, p=2,\n",
       "           weights='uniform')"
      ]
     },
     "execution_count": 15,
     "metadata": {},
     "output_type": "execute_result"
    }
   ],
   "source": [
    "clf.fit(X_train,y_train)"
   ]
  },
  {
   "cell_type": "markdown",
   "metadata": {},
   "source": [
    "테스트 데이터에 대해 predict 메서드 호출하여 예측 -> 테스트 세트의 각 데이터 포인트에 대해 훈련 세트에서 가장 가까운 이웃을 계산"
   ]
  },
  {
   "cell_type": "code",
   "execution_count": 16,
   "metadata": {},
   "outputs": [
    {
     "name": "stdout",
     "output_type": "stream",
     "text": [
      "테스트 세트 예측:[1 0 1 0 1 0 0]\n"
     ]
    }
   ],
   "source": [
    "print(\"테스트 세트 예측:{}\".format(clf.predict(X_test)))"
   ]
  },
  {
   "cell_type": "markdown",
   "metadata": {},
   "source": [
    "얼마나 정확할까(일반화 되었을까)? -> score 메서드에 테스트 데이터와 테스트 레이블을 넣어 호출"
   ]
  },
  {
   "cell_type": "code",
   "execution_count": 17,
   "metadata": {},
   "outputs": [
    {
     "name": "stdout",
     "output_type": "stream",
     "text": [
      "테스트 세트 정확도:0.86\n"
     ]
    }
   ],
   "source": [
    "print(\"테스트 세트 정확도:{:.2f}\".format(clf.score(X_test,y_test)))"
   ]
  },
  {
   "cell_type": "markdown",
   "metadata": {
    "collapsed": true
   },
   "source": [
    "### KneighborsClassifier 분석\n",
    "\n",
    "2차원 데이터셋 -> xy평면에 그려볼 수 있음 -> 데이터 포인트가 속한 클래스에 따라 색을 다르게함 -> 클래스0과 클래스1로 지정한 영역으로 나뉘는 결정 경계 (decision boundary)를 볼 수 있음\n",
    "\n",
    "이웃이 1, 3, 9 일때 각각 결정 경계를 봐보자"
   ]
  },
  {
   "cell_type": "code",
   "execution_count": 18,
   "metadata": {},
   "outputs": [
    {
     "data": {
      "text/plain": [
       "<matplotlib.legend.Legend at 0x251ccd6d4e0>"
      ]
     },
     "execution_count": 18,
     "metadata": {},
     "output_type": "execute_result"
    },
    {
     "data": {
      "image/png": "[encoded data removed]",
      "text/plain": [
       "<matplotlib.figure.Figure at 0x251ccd6d438>"
      ]
     },
     "metadata": {},
     "output_type": "display_data"
    }
   ],
   "source": [
    "fig, axes = plt.subplots(1, 3, figsize=(10, 3))\n",
    "\n",
    "for n_neighbors, ax in zip([1,3,9],axes):\n",
    "    #fit 매서드는 self객체를 반환 -> 객체 생성과 fit 매서드를 한줄에 쓸 수 있음\n",
    "    clf = KNeighborsClassifier(n_neighbors=n_neighbors).fit(X,y)\n",
    "    mglearn.plots.plot_2d_separator(clf,X,fill=True, eps=0.5,ax=ax,alpha=.4)\n",
    "    mglearn.discrete_scatter(X[:,0],X[:,1],y, ax=ax)\n",
    "    ax.set_title(\"{} neighbors\".format(n_neighbors))\n",
    "    ax.set_xlabel(\"feutre 0\")\n",
    "    ax.set_ylabel(\"feutre 1\")\n",
    "axes[0].legend(loc=3)    "
   ]
  },
  {
   "cell_type": "markdown",
   "metadata": {
    "collapsed": true
   },
   "source": [
    "이웃 하나 -> 결정 경계가 훈련 데이터에 가까움 -> 이웃의 수를 늘릴수록 경계는 부드러워짐 -> 부드러울수록 더 단순한 모델\n",
    "\n",
    "이웃 적음 -> 모델의 복잡도 증가 \n",
    "\n",
    "이웃 많음 -> 모델의 복잡도 감소\n",
    "\n",
    "극단적인 경우 : 훈련데이터의 수 = 이웃의 수 -> 테스트 포인트에 대한 예측은 모두 훈련세트에서 가장 많은 데이터 포인트를 가진 클래스가 예측값이 됨\n",
    "\n",
    "### 실제 유방암 데이터를 사용하여 모델의 복잡도와 일반화 사이의 관계를 입증해보자"
   ]
  },
  {
   "cell_type": "code",
   "execution_count": 19,
   "metadata": {},
   "outputs": [
    {
     "data": {
      "text/plain": [
       "<matplotlib.legend.Legend at 0x251ca9c5518>"
      ]
     },
     "execution_count": 19,
     "metadata": {},
     "output_type": "execute_result"
    },
    {
     "data": {
      "image/png": "[encoded data removed]",
      "text/plain": [
       "<matplotlib.figure.Figure at 0x251ccd18fd0>"
      ]
     },
     "metadata": {},
     "output_type": "display_data"
    }
   ],
   "source": [
    "from sklearn.datasets import load_breast_cancer\n",
    "\n",
    "cancer  =load_breast_cancer()\n",
    "\n",
    "X_train, X_test, y_train,y_test =train_test_split(cancer.data,cancer.target,stratify=cancer.target, random_state=66)\n",
    "\n",
    "training_accuracy = []\n",
    "test_accuracy = []\n",
    "\n",
    "#1~10까지 n_neighbors 사용\n",
    "neighbors_setting =range(1,11)\n",
    "\n",
    "for n_neighbors in neighbors_setting:\n",
    "    #모델 생성\n",
    "    clf = KNeighborsClassifier(n_neighbors=n_neighbors)\n",
    "    clf.fit(X_train,y_train)\n",
    "    \n",
    "    #훈련세트 정확도 저장\n",
    "    training_accuracy.append(clf.score(X_train, y_train))\n",
    "    \n",
    "    #일반화 정확도 저장\n",
    "    test_accuracy.append(clf.score(X_test, y_test))\n",
    "    \n",
    "#그래프 그리기\n",
    "plt.plot(neighbors_setting, training_accuracy, label=\"Train accuracy\")\n",
    "plt.plot(neighbors_setting, test_accuracy, label=\"Test accuracy\")\n",
    "plt.xlabel(\"n_neighbors\")\n",
    "plt.ylabel(\"Accuracy\")\n",
    "plt.legend()"
   ]
  },
  {
   "cell_type": "markdown",
   "metadata": {},
   "source": [
    "그림은 n_neighbors 수에 따른 훈련세트와 테스트 세트의 정확도를 표현 -> 매끈하진 않지만, 과대적합과 과소적합을 볼 수 있음\n",
    "\n",
    "최근접 이웃수가 하나일때 완벽 훈련 데이토 예측 완벽 -> 이웃수가 늘어날 수록 모델 단순 -> 훈련 데이터의 정확도 감소 \n",
    "\n",
    "테스트 세트의 정확도 : 이웃이 1개일때,모델이 복잡해서 많이 사용했을때보다 낮음 -> 이웃 10개이면 모델이 너무 단순해서 또 낮아짐 -> 중간정도인 6개 사용했을때 가장 좋음"
   ]
  },
  {
   "cell_type": "markdown",
   "metadata": {},
   "source": [
    "### k-최근법 이웃 회귀\n",
    "\n",
    "k-최근접 이웃 알고리즘 -> 분류뿐 아니라 회귀에도 쓰임\n",
    "\n",
    "wave 데이터 셋을 이용 -> 이웃이 하나인 최근접 이웃 사용\n",
    "\n"
   ]
  },
  {
   "cell_type": "code",
   "execution_count": 20,
   "metadata": {},
   "outputs": [
    {
     "data": {
      "image/png": "[encoded data removed]",
      "text/plain": [
       "<matplotlib.figure.Figure at 0x251ccd6d8d0>"
      ]
     },
     "metadata": {},
     "output_type": "display_data"
    }
   ],
   "source": [
    "mglearn.plots.plot_knn_regression(n_neighbors=1)"
   ]
  },
  {
   "cell_type": "markdown",
   "metadata": {},
   "source": [
    "x축에 세 개의 테스트 데이터를 흐린 별모양\n",
    "\n",
    "최근접 이웃을 한 개만 이용할 때 예측 = 그냥 가장 가까운 이웃의 타깃값 ( 진한 별모양)\n",
    "\n",
    "이웃이 둘 이상 사용하여 회귀 분석 -> 평균이 예측됨"
   ]
  },
  {
   "cell_type": "code",
   "execution_count": 21,
   "metadata": {},
   "outputs": [
    {
     "data": {
      "image/png": "[encoded data removed]",
      "text/plain": [
       "<matplotlib.figure.Figure at 0x251ccbb0b70>"
      ]
     },
     "metadata": {},
     "output_type": "display_data"
    }
   ],
   "source": [
    "mglearn.plots.plot_knn_regression(n_neighbors=3)"
   ]
  },
  {
   "cell_type": "markdown",
   "metadata": {},
   "source": [
    "scikit-learn에서 회귀를 위한 k-최근접 이웃 알고리즘은 KNeighborsRegressor에 구현 : 사용법은 KNeighborsClassifier와 비슷"
   ]
  },
  {
   "cell_type": "code",
   "execution_count": 22,
   "metadata": {
    "collapsed": true
   },
   "outputs": [],
   "source": [
    "from sklearn.neighbors import KNeighborsRegressor\n",
    "\n",
    "X, y =mglearn.datasets.make_wave(n_samples=40)"
   ]
  },
  {
   "cell_type": "markdown",
   "metadata": {},
   "source": [
    "wave 데이터 셋을 train세트와 test 세트로 나눔"
   ]
  },
  {
   "cell_type": "code",
   "execution_count": 23,
   "metadata": {
    "collapsed": true
   },
   "outputs": [],
   "source": [
    "X_train ,X_test, y_train, y_test = train_test_split(X,y,random_state=0)"
   ]
  },
  {
   "cell_type": "markdown",
   "metadata": {},
   "source": [
    "이웃의 수 = 3 으로하여 모델의 객체 만듦"
   ]
  },
  {
   "cell_type": "code",
   "execution_count": 24,
   "metadata": {
    "collapsed": true
   },
   "outputs": [],
   "source": [
    "reg =KNeighborsRegressor(n_neighbors=3)"
   ]
  },
  {
   "cell_type": "markdown",
   "metadata": {},
   "source": [
    "훈련데이터와 타깃을 사용하여 모델 학습"
   ]
  },
  {
   "cell_type": "code",
   "execution_count": 25,
   "metadata": {},
   "outputs": [
    {
     "data": {
      "text/plain": [
       "KNeighborsRegressor(algorithm='auto', leaf_size=30, metric='minkowski',\n",
       "          metric_params=None, n_jobs=1, n_neighbors=3, p=2,\n",
       "          weights='uniform')"
      ]
     },
     "execution_count": 25,
     "metadata": {},
     "output_type": "execute_result"
    }
   ],
   "source": [
    "reg.fit(X_train, y_train)"
   ]
  },
  {
   "cell_type": "markdown",
   "metadata": {},
   "source": [
    "테스트 세트에 대한 예측"
   ]
  },
  {
   "cell_type": "code",
   "execution_count": 26,
   "metadata": {},
   "outputs": [
    {
     "name": "stdout",
     "output_type": "stream",
     "text": [
      "테스트 세트 예측:\n",
      "[-0.05396539  0.35686046  1.13671923 -1.89415682 -1.13881398 -1.63113382\n",
      "  0.35686046  0.91241374 -0.44680446 -1.13881398]\n"
     ]
    }
   ],
   "source": [
    "print(\"테스트 세트 예측:\\n{}\".format(reg.predict(X_test)))"
   ]
  },
  {
   "cell_type": "markdown",
   "metadata": {},
   "source": [
    "score 메서드를 사용해 모델 평가 \n",
    "\n",
    "회귀일땐 R^2 값을 반환 -> 결정 계수 R은 예측의 적합도를 0과 1사이의 값으로 계산한 것\n",
    "\n",
    "1은 예측이 완벽한 경우\n",
    "\n",
    "0은 훈련 데이터 세트의 출력값인 y_train의 평균으로만 모델을 예측"
   ]
  },
  {
   "cell_type": "code",
   "execution_count": 27,
   "metadata": {},
   "outputs": [
    {
     "name": "stdout",
     "output_type": "stream",
     "text": [
      "테스트 세트 R^2: 0.83\n"
     ]
    }
   ],
   "source": [
    "print(\"테스트 세트 R^2: {:.2f}\".format(reg.score(X_test, y_test)))"
   ]
  },
  {
   "cell_type": "markdown",
   "metadata": {},
   "source": [
    "### KNeighborsRegressor 분석\n",
    "1차원 데이터셋에 대한모든 특성값을 만들어 예측 할 수 있음\n",
    "\n",
    "이를 위해 x축 따라 많은 포인트를 생성해 테스트 데이터셋을 만든다"
   ]
  },
  {
   "cell_type": "code",
   "execution_count": 28,
   "metadata": {},
   "outputs": [
    {
     "data": {
      "text/plain": [
       "<matplotlib.legend.Legend at 0x251ccfc3fd0>"
      ]
     },
     "execution_count": 28,
     "metadata": {},
     "output_type": "execute_result"
    },
    {
     "data": {
      "image/png": "[encoded data removed]",
      "text/plain": [
       "<matplotlib.figure.Figure at 0x251cd00fdd8>"
      ]
     },
     "metadata": {},
     "output_type": "display_data"
    }
   ],
   "source": [
    "fig, axes =plt.subplots(1,3,figsize=(15,4))\n",
    "\n",
    "# -3과 3 사이에 1000개의 데이터 포인트를 만듬\n",
    "line =np.linspace(-3,3,1000).reshape(-1,1)\n",
    "\n",
    "#1,3,9 이웃을 사용한 예측\n",
    "for n_neighbors, ax in zip([1,3,9],axes):\n",
    "    reg = KNeighborsRegressor(n_neighbors=n_neighbors)\n",
    "    reg.fit(X_train, y_train)\n",
    "    ax.plot(line, reg.predict(line))\n",
    "    ax.plot(X_train,y_train,'^',c=mglearn.cm2(0),markersize=8)\n",
    "    ax.plot(X_test, y_test, 'v', c=mglearn.cm2(1), markersize=8)\n",
    "    \n",
    "    ax.set_title(\n",
    "        \"{}neighbors train score:{:.2f} test score: {:2f}\".format(n_neighbors, reg.score(X_train, y_train),reg.score(X_test, y_test)))\n",
    "    ax.set_xlabel(\"Feature\")\n",
    "    ax.set_ylabel(\"Target\")\n",
    "axes[0].legend([\"Model Predciton\",\"Train data/Target\",\"Test data/Target\"],loc=\"best\")    "
   ]
  },
  {
   "cell_type": "markdown",
   "metadata": {},
   "source": [
    "이웃 하나만 사용 ->> 훈련 세트의 각 데이터 포인트가 예측에 주는 영향 큼 ->훈련 데이터 포인트를 모두 지나감 -> 불안정한 예측\n",
    "\n",
    "이웃을 많이 사용 ->훈련 데이터에 잘 안맞음 but 안정된 예측"
   ]
  },
  {
   "cell_type": "markdown",
   "metadata": {},
   "source": [
    "### 매개변수\n",
    "\n",
    "KNeighbors 분류기 중요한 매개변수 2개 : 데이터 포인트 사이의 거리를 재는 방법, 이웃의 수\n",
    "\n",
    "기본적으로 여러 환경에서 잘 동작하는 유클리디안 거리 방식 사용\n",
    "\n",
    "이웃의 수는 3개나 5개 정ㄷ로 적을때 잘 작동---- 잘 조정해야함"
   ]
  },
  {
   "cell_type": "markdown",
   "metadata": {},
   "source": [
    "### 장점\n",
    "1. 이해하기 매우 쉬움\n",
    "2. 많이 조정하지 않아도 좋은 성능을 발휘 -> 더 복잡한 알고리즘을 적용하기전에 시도해 볼 수 있는 좋은 시작점\n",
    "3. 매우 빠르게 만들 수 있음"
   ]
  },
  {
   "cell_type": "markdown",
   "metadata": {},
   "source": [
    "### 단점\n",
    "1. 훈련 세트가 매우크면 (특성의 수 or 샘플의 수가 클 경우) 예측이 느려짐\n",
    "2. 데이터 전처리과정이 중요 -> 3장 참고\n",
    "3. 많은 특성을 가진 ( 수백 개 이상의) 데이터셋에서는 잘 동작X\n",
    "4. 특성값 대부분이 0인 (희소한) 데이터셋과는 특히 잘 작동X\n",
    "\n",
    "현업에서 잘 쓰지 않음"
   ]
  },
  {
   "cell_type": "markdown",
   "metadata": {},
   "source": [
    "## 2.3.3 선형 모델(Linear model)\n",
    "100여 년 전 개발 but 현재도 널리 쓰임\n",
    "\n",
    "입력 특성에 대한 선형 함수를 만들어 예측\n",
    "\n",
    "### 회귀의 선형 모델\n",
    "\n",
    "일반화된 예측함수 : y=w[0]Xx[0]+...+w[p]Xx[p]+b\n",
    "\n",
    "x[0]부터 x[p]는 데이터 포인트에 대한 특성 ( 특성의 갯수는 p+1)\n",
    "\n",
    "w와 b는 모델이 학습할 파라미터\n",
    "\n",
    "y는 모델이 만들어 낼 예측값\n",
    "\n",
    "\n",
    "\n",
    "if 특성이 하나 -> y=w[0]Xx[0]+b  -> W[0]: 기울기  b: 절편\n",
    "\n",
    "특성이 여러개 -> w는 각 특성에 해당하는 기울기 -> 예측값은 입력 특성에 w의 가중치를 곱해서 더한 가중치의 합 (w는 음수 일 수도 있음)"
   ]
  },
  {
   "cell_type": "markdown",
   "metadata": {},
   "source": [
    "1차원 wave 데이터 셋으로부터 파라미터w[0]와 b를 직선처럼 되도록 학습"
   ]
  },
  {
   "cell_type": "code",
   "execution_count": 29,
   "metadata": {},
   "outputs": [
    {
     "name": "stdout",
     "output_type": "stream",
     "text": [
      "w[0]: 0.393906  b: -0.031804\n"
     ]
    },
    {
     "data": {
      "image/png": "[encoded data removed]",
      "text/plain": [
       "<matplotlib.figure.Figure at 0x251ccc817b8>"
      ]
     },
     "metadata": {},
     "output_type": "display_data"
    }
   ],
   "source": [
    "mglearn.plots.plot_linear_regression_wave()"
   ]
  },
  {
   "cell_type": "markdown",
   "metadata": {},
   "source": [
    "선형 모델: 특성이 한개 -> 직선, 두개-> 평면 .... 더 높은 차원(특성이 더많음) -> 초 평면\n",
    "\n",
    "위 직선과 KNeighborsRegressor를 사용하여 만든 선을 비교 -> 선형 모델이 직선을 사용한 예측에 더 제약이 많음 -> 데이터의 상세 정보를 모두 잃어버린것 처럼 보임 -> 타깃 y가 특성들의 선형 조합이라는 것은 매우 과한, 비현실적인 가정 ->1차원 데이터만 놓고봐서 생긴 편견일 수도 있음 -> 특성이 여러개인 경우 선형 모델은 매우 훌륭한 성능 낼 수 있음 -> 훈련 데이터보다 특성이 더 많은 경우엔 어떤 타깃 y도 훈련세트에 대해서 완변학게 선형함수로 모델링 가능\n",
    "\n",
    "회귀를 위한 선형 모델 다양 -> 모델 파라미터 w,b를 학습하는 방법과 모델의 복잡도를 제어하는 방법에서 차이남"
   ]
  },
  {
   "cell_type": "markdown",
   "metadata": {},
   "source": [
    "### 선형 회귀(최소제곱법)\n",
    "선형회귀 (linear regression) 또는 최소제곱법(OLS, odrinary least squares)은 가장 간단하고 오래된 회구용 선형 알고리즘\n",
    "\n",
    "선형 회귀는 예측과 훈련 세트에 있는 타깃y 사이의 평균제곱오차(mean squared error)를 치소하하는 파라미터 w와 b를 찾음\n",
    "\n",
    "평균제곱오차: 예측값과 타깃값의 차이를 제곱하여 더한 후 샘플의 갯수로 나눔\n",
    "\n",
    "장점 : 매개 변수가 없음 -> but 모델의 복잡도를 제어할 방법이 없음"
   ]
  },
  {
   "cell_type": "code",
   "execution_count": 30,
   "metadata": {
    "collapsed": true
   },
   "outputs": [],
   "source": [
    "from sklearn.linear_model import LinearRegression\n",
    "\n",
    "X, y =mglearn.datasets.make_wave(n_samples=40)\n",
    "X_train ,X_test, y_train, y_test = train_test_split(X,y,random_state=42)\n",
    "\n",
    "lr =LinearRegression().fit(X_train, y_train)"
   ]
  },
  {
   "cell_type": "markdown",
   "metadata": {},
   "source": [
    "w : 가중치(weight) 또는 계수(coefficient)라고 하며 lr 객체의 coef_ 속성에 저장됨 -> numpy 배열\n",
    "\n",
    "b : 편항(offset)또는 절편(intercept)라고 하며 intercept_ 속성에 저장됨 -> 실수값, 딱 하나"
   ]
  },
  {
   "cell_type": "code",
   "execution_count": 31,
   "metadata": {},
   "outputs": [
    {
     "name": "stdout",
     "output_type": "stream",
     "text": [
      "lr.coef_:[0.47954524]\n",
      "lr.intercept_:-0.09847983994403892\n"
     ]
    }
   ],
   "source": [
    "print(\"lr.coef_:{}\".format(lr.coef_))\n",
    "print(\"lr.intercept_:{}\".format(lr.intercept_))"
   ]
  },
  {
   "cell_type": "markdown",
   "metadata": {},
   "source": [
    "훈련 세트와 테스트 세트의 성능 확인"
   ]
  },
  {
   "cell_type": "code",
   "execution_count": 32,
   "metadata": {},
   "outputs": [
    {
     "name": "stdout",
     "output_type": "stream",
     "text": [
      "훈련 세트 점수:0.65\n",
      "테스트 세트 점수:0.77\n"
     ]
    }
   ],
   "source": [
    "print(\"훈련 세트 점수:{:.2f}\".format(lr.score(X_train, y_train)))\n",
    "print(\"테스트 세트 점수:{:.2f}\".format(lr.score(X_test, y_test)))"
   ]
  },
  {
   "cell_type": "markdown",
   "metadata": {},
   "source": [
    "1차원 모델: 모델이 매우 단순 (제한적) -> 과대적합 걱정X\n",
    "\n",
    "훈련세트와 테스트 점수세트 점수 비슷 -> 과소적합 상태\n",
    "\n",
    "\n",
    "\n",
    "보스턴 주택가격 데이터셋에서 어떻게 작동하는지 살펴보자\n",
    "\n",
    "샘플 505개, 특성 104개 (유도된 특성 포함)"
   ]
  },
  {
   "cell_type": "code",
   "execution_count": 33,
   "metadata": {},
   "outputs": [
    {
     "name": "stdout",
     "output_type": "stream",
     "text": [
      "훈련 세트 점수:0.95\n",
      "테스트 세트 점수:0.61\n"
     ]
    }
   ],
   "source": [
    "X, y = mglearn.datasets.load_extended_boston()\n",
    "X_train ,X_test, y_train, y_test = train_test_split(X,y,random_state=0)\n",
    "lr = LinearRegression().fit(X_train,y_train)\n",
    "\n",
    "print(\"훈련 세트 점수:{:.2f}\".format(lr.score(X_train, y_train)))\n",
    "print(\"테스트 세트 점수:{:.2f}\".format(lr.score(X_test, y_test)))"
   ]
  },
  {
   "cell_type": "markdown",
   "metadata": {},
   "source": [
    "훈련 세트 매우 정확  but 테스트 세트 점수 낮음 -> 과대적합 -> 복잡도를 제어할 수 있는 모델 사용해야함"
   ]
  },
  {
   "cell_type": "markdown",
   "metadata": {},
   "source": [
    "### 릿지(Ridge) 회귀\n",
    "\n",
    "가중치(w) 선택 -> 훈련 데이터를 잘 예측 & 추가 제약조건을 만족시키기 위한 목적 -> 가중치의 절댓값을 가능한 작게 만듦\n",
    "\n",
    "w의 모든원소가 0에 가깝게 -> 모든 특성이 출력에 주는 영향을 최소한(기울기를 작게 만듦) -> 이런 제약을 규제(Regularzation) -> 과대적합 방지\n",
    "\n",
    "릿지 회귀 -> L2규제\n",
    "\n",
    "보스턴 주택가격 데이터셋에 적용"
   ]
  },
  {
   "cell_type": "code",
   "execution_count": 34,
   "metadata": {},
   "outputs": [
    {
     "name": "stdout",
     "output_type": "stream",
     "text": [
      "훈련 세트 점수:0.89\n",
      "테스트 세트 점수:0.75\n"
     ]
    }
   ],
   "source": [
    "from sklearn.linear_model import Ridge\n",
    "\n",
    "ridge = Ridge().fit(X_train, y_train)\n",
    "print(\"훈련 세트 점수:{:.2f}\".format(ridge.score(X_train, y_train)))\n",
    "print(\"테스트 세트 점수:{:.2f}\".format(ridge.score(X_test, y_test)))"
   ]
  },
  {
   "cell_type": "markdown",
   "metadata": {},
   "source": [
    "테스트세트에서 점수 더 높음 -> 덜 자유로움-> 과대적합 적어짐 -> LinearRegression보다 Ridge 모델을선택\n",
    "\n",
    "alpha 매개변수로 훈련 세트의 성능 대비 모델을 얼마나 단순화할지 지정할 수 있음 (기본값 alpha=1.0)\n",
    "\n",
    "최적의 alpha 값은 데이터에 따라 달라짐\n",
    "\n",
    "alpha값 높임 -> 계수는 0에 더 가까워짐 ->  훈련 세트 성능 감소 but 일반화에 도움됨\n",
    "\n",
    "아주 작은 alphh값 -> 계수를 거의 제한하지 않음 -> LinearRegression 모델과 비슷"
   ]
  },
  {
   "cell_type": "code",
   "execution_count": 35,
   "metadata": {},
   "outputs": [
    {
     "name": "stdout",
     "output_type": "stream",
     "text": [
      "훈련 세트 점수:0.79\n",
      "테스트 세트 점수:0.64\n"
     ]
    }
   ],
   "source": [
    "ridge10 = Ridge(alpha=10).fit(X_train, y_train)\n",
    "\n",
    "print(\"훈련 세트 점수:{:.2f}\".format(ridge10.score(X_train, y_train)))\n",
    "print(\"테스트 세트 점수:{:.2f}\".format(ridge10.score(X_test, y_test)))"
   ]
  },
  {
   "cell_type": "code",
   "execution_count": 36,
   "metadata": {},
   "outputs": [
    {
     "name": "stdout",
     "output_type": "stream",
     "text": [
      "훈련 세트 점수:0.93\n",
      "테스트 세트 점수:0.77\n"
     ]
    }
   ],
   "source": [
    "ridge01 = Ridge(alpha=0.1).fit(X_train, y_train)\n",
    "\n",
    "print(\"훈련 세트 점수:{:.2f}\".format(ridge01.score(X_train, y_train)))\n",
    "print(\"테스트 세트 점수:{:.2f}\".format(ridge01.score(X_test, y_test)))"
   ]
  },
  {
   "cell_type": "markdown",
   "metadata": {},
   "source": [
    "이 데이터에서는 alpha=0.1이 좋음 (좋은 매개변수를 선택하는법 -> 5장)\n",
    "\n",
    "alpha값에 따라 모델의 coef_ 속성이 어떻게 달라지는지 조사 -> alpha 매개변수가 모델을 어떻게 변경시키는지 이해 도움\n",
    "\n",
    "높은 alpha -> 더많은 제약 -> 작은 alpha값일 때보다 coef_ 절댓값 크기가 작음"
   ]
  },
  {
   "cell_type": "code",
   "execution_count": 37,
   "metadata": {},
   "outputs": [
    {
     "data": {
      "text/plain": [
       "<matplotlib.legend.Legend at 0x251ca9e8f60>"
      ]
     },
     "execution_count": 37,
     "metadata": {},
     "output_type": "execute_result"
    },
    {
     "data": {
      "image/png": "[encoded data removed]",
      "text/plain": [
       "<matplotlib.figure.Figure at 0x251ccebd860>"
      ]
     },
     "metadata": {},
     "output_type": "display_data"
    }
   ],
   "source": [
    "plt.plot(ridge10.coef_,'^',label=\"Ridge alpha=10\")\n",
    "plt.plot(ridge.coef_,'s',label=\"Ridge alpha=1\")\n",
    "plt.plot(ridge01.coef_,'v',label=\"Ridge alpha=0.1\")\n",
    "\n",
    "plt.plot(lr.coef_,'o',label=\"LinearRegression\")\n",
    "plt.xlabel(\"Coef List\")\n",
    "plt.ylabel(\"Coef Size\")\n",
    "plt.hlines(0,0,len(lr.coef_))\n",
    "plt.ylim(-25,25)\n",
    "plt.legend()"
   ]
  },
  {
   "cell_type": "markdown",
   "metadata": {},
   "source": [
    "alpha가 작을수록 모델의 계수의 절댓값이 커짐 -> alpha=0일때는 그림밖으로도 나감\n",
    "\n",
    "---\n",
    "alpha값 고정 and 훈련 데이터 크기를 변화시킴\n",
    "\n",
    "보스턴 주택가격 데이터셋에서 여러 가지 크기로 샘플링 후 LinearRegression과 Ridge(alpha=1)을 적용함\n",
    "\n",
    "데이터셋의 크기에 따른 모델의 성능 변화를 나타낸 그래프 -> 학습곡선(learning curve)"
   ]
  },
  {
   "cell_type": "code",
   "execution_count": 38,
   "metadata": {},
   "outputs": [
    {
     "name": "stderr",
     "output_type": "stream",
     "text": [
      "C:\\ProgramData\\Anaconda3\\lib\\site-packages\\sklearn\\model_selection\\_validation.py:811: FutureWarning: Conversion of the second argument of issubdtype from `float` to `np.floating` is deprecated. In future, it will be treated as `np.float64 == np.dtype(float).type`.\n",
      "  if np.issubdtype(train_sizes_abs.dtype, np.float):\n",
      "C:\\ProgramData\\Anaconda3\\lib\\site-packages\\sklearn\\model_selection\\_validation.py:811: FutureWarning: Conversion of the second argument of issubdtype from `float` to `np.floating` is deprecated. In future, it will be treated as `np.float64 == np.dtype(float).type`.\n",
      "  if np.issubdtype(train_sizes_abs.dtype, np.float):\n"
     ]
    },
    {
     "data": {
      "image/png": "[encoded data removed]",
      "text/plain": [
       "<matplotlib.figure.Figure at 0x251ccf83dd8>"
      ]
     },
     "metadata": {},
     "output_type": "display_data"
    }
   ],
   "source": [
    "mglearn.plots.plot_ridge_n_samples()"
   ]
  },
  {
   "cell_type": "markdown",
   "metadata": {},
   "source": [
    "모든 데이터셋에서 릿지와 선형 회구 모두 점수가 훈련> 테스트\n",
    "\n",
    "릿지에서는 규제 적용 -> 훈련데이터 점수가 선형회귀보다 작음 but 테스트 점수 더 높음\n",
    "\n",
    "게다가 데이터 셋 크기가 400 미만 -> 선형 회귀는 어떤것도 학습 못함\n",
    "\n",
    "두 모델 모두 데이터가 많을 수록 성능 좋음 -> 마지막에는 선형회귀가 릿지회귀를 따라잡음\n",
    "\n",
    "-> 데이터 충분하면 규제항은 덜 중요 -> 릿지랑 선형회귀 성능 같아짐\n",
    "\n",
    "데이터 많아짐 -> 기억하기 어렵고, 과대적합하기 어려워짐 -> 선형 회귀 훈련 데이터 성능 낮아짐"
   ]
  },
  {
   "cell_type": "markdown",
   "metadata": {},
   "source": [
    "### 라쏘(lasso)\n",
    "선형 회귀에 규제를 적용하는데 Ridge의 대안\n",
    "\n",
    "Ridge회귀처럼 라쏘도 계수를 0에 가깝게 만들려고 함 but 방식에 차이점이 있음 (라쏘:L1규제, Ridge:L2규제)\n",
    "\n",
    "실제로 L1규제를 사용하다보면 어떤 계수는 0이 되기도 함 -> 모델에서 완전히 제외되는 특성 생김 -> 특성선택(feature selection)이 자동으로 이뤄짐\n",
    "\n",
    "확장된 보스턴 주택가격 데이터셋에 lasso 적용"
   ]
  },
  {
   "cell_type": "code",
   "execution_count": 39,
   "metadata": {},
   "outputs": [
    {
     "name": "stdout",
     "output_type": "stream",
     "text": [
      "훈련 세트 점수:0.29\n",
      "테스트 세트 점수:0.21\n",
      "사용한 특성의 수:4\n"
     ]
    }
   ],
   "source": [
    "from sklearn.linear_model import Lasso\n",
    "\n",
    "lasso =Lasso().fit(X_train, y_train)\n",
    "print(\"훈련 세트 점수:{:.2f}\".format(lasso.score(X_train, y_train)))\n",
    "print(\"테스트 세트 점수:{:.2f}\".format(lasso.score(X_test, y_test)))\n",
    "print(\"사용한 특성의 수:{}\".format(np.sum(lasso.coef_ !=0)))"
   ]
  },
  {
   "cell_type": "markdown",
   "metadata": {},
   "source": [
    "특성 104개중 4개 사용 ->과소적합-> 훈련, 테스트 모두 점수 안좋음 \n",
    "\n",
    "Ridge처럼 Lasso도 얼마나 강하게 0으로 보낼지 매개변수 alpha으로 조절\n",
    "\n",
    "과소적합 줄이기 -> alpha값 줄임 -> 반복 실행하는 최대횟수(max_iter)의 기본값 늘려야함 (늘리지 않으면 늘리라고 경고뜸)\n",
    "\n",
    "너무 낮추면 규제효과X -> 과대적합 -> 선형회귀와 비슷"
   ]
  },
  {
   "cell_type": "code",
   "execution_count": 40,
   "metadata": {},
   "outputs": [
    {
     "name": "stdout",
     "output_type": "stream",
     "text": [
      "훈련 세트 점수:0.90\n",
      "테스트 세트 점수:0.77\n",
      "사용한 특성의 수:33\n"
     ]
    }
   ],
   "source": [
    "lasso001=Lasso(alpha=0.01,max_iter=100000).fit(X_train,y_train)\n",
    "print(\"훈련 세트 점수:{:.2f}\".format(lasso001.score(X_train, y_train)))\n",
    "print(\"테스트 세트 점수:{:.2f}\".format(lasso001.score(X_test, y_test)))\n",
    "print(\"사용한 특성의 수:{}\".format(np.sum(lasso001.coef_ !=0)))"
   ]
  },
  {
   "cell_type": "code",
   "execution_count": 41,
   "metadata": {},
   "outputs": [
    {
     "name": "stdout",
     "output_type": "stream",
     "text": [
      "훈련 세트 점수:0.95\n",
      "테스트 세트 점수:0.64\n",
      "사용한 특성의 수:94\n"
     ]
    }
   ],
   "source": [
    "lasso00001=Lasso(alpha=0.0001,max_iter=100000).fit(X_train,y_train)\n",
    "print(\"훈련 세트 점수:{:.2f}\".format(lasso00001.score(X_train, y_train)))\n",
    "print(\"테스트 세트 점수:{:.2f}\".format(lasso00001.score(X_test, y_test)))\n",
    "print(\"사용한 특성의 수:{}\".format(np.sum(lasso00001.coef_ !=0)))"
   ]
  },
  {
   "cell_type": "markdown",
   "metadata": {
    "collapsed": true
   },
   "source": [
    "alpha값이 다른 모델들의 계수를 그래프로 그려보자"
   ]
  },
  {
   "cell_type": "code",
   "execution_count": 48,
   "metadata": {},
   "outputs": [
    {
     "data": {
      "text/plain": [
       "<matplotlib.text.Text at 0x251cd22b860>"
      ]
     },
     "execution_count": 48,
     "metadata": {},
     "output_type": "execute_result"
    },
    {
     "data": {
      "image/png": "[encoded data removed]",
      "text/plain": [
       "<matplotlib.figure.Figure at 0x251cf490358>"
      ]
     },
     "metadata": {},
     "output_type": "display_data"
    }
   ],
   "source": [
    "plt.plot(lasso.coef_, 's', label=\"Lasso alpha=1\")\n",
    "plt.plot(lasso001.coef_, '^', label=\"Lasso alpha=0.01\")\n",
    "plt.plot(lasso00001.coef_,'v',label=\"Lasso alpha=0.0001\")\n",
    "\n",
    "plt.plot(ridge01.coef_, 'o',label=\"Ridge alpha=0.1\")\n",
    "plt.legend(ncol=2, loc=(0,1.05))\n",
    "plt.ylim(-25,25)\n",
    "plt.xlabel(\"Coef List\")\n",
    "plt.ylabel(\"Coef Size\")"
   ]
  },
  {
   "cell_type": "markdown",
   "metadata": {},
   "source": [
    "alpha=1 => 계수 대부분이 0 + 나머지 계수들도 크기가 작음\n",
    "\n",
    "alpha=0.01 => 대부분 특성이 0\n",
    "\n",
    "alpha=0.0001 => 규제 잘 안받음\n",
    "\n",
    "보통은 릿지 회귀를 선호 but 특성이 많거나 일부만 중요하면 Lasso 선호될수 있음 -> 쉽게 모델 만들 수 있음\n",
    "\n",
    "\n",
    "scikit-learn은 Lasso와 Ridge의 페널티를 결합한 ElasticNet 제공 -> 최상위 성능 but L1과 L2규제를 위한 매개변수 두개를 조정해야함"
   ]
  },
  {
   "cell_type": "markdown",
   "metadata": {},
   "source": [
    "### 분류용 선형 모델\n",
    "\n",
    "분류에도 사용가능 이진 분류에서 예측을 위한 방정식은 아래와 같음\n",
    "\n",
    "y= w[0] X x[0] + w[1] X x[1] + ... + w[p] X x[p]+b > 0    => 0보다 크면 클래스를 +1, 0보다 작으면 클래스를 -1\n",
    "\n",
    "---------------------------------------------------------------------------------------------------------------------\n",
    "\n",
    "회귀용 선형모델: 출력 y가 특성 의 선형함수 -> 직선, 평면, 초평면(차원이 3이상)\n",
    "\n",
    "뷴류용 선형모델: 결정 경계가 입력의 선형 함수 -> (이진) 선형 분류기는 선, 평면, 초평면을 사용해서두 개의 클래스를 구분하는 분류기\n",
    "\n",
    "----------------------------------------------------------------------------\n",
    "\n",
    "선형 모델을 학습시키는 알고리즘은 다양 -> 크게 아래 두방법으로 나눔\n",
    "\n",
    "1. 특정 계수와 정편의 조합이 훈련 데이터에 얼마나 잘 맞는지 측정하는 방법\n",
    "2. 사용할 수 있는 규제가 있는지, 있다면 어떤 방식인지\n",
    "\n",
    "알고리즘들은 훈련 세트"
   ]
  },
  {
   "cell_type": "code",
   "execution_count": null,
   "metadata": {
    "collapsed": true
   },
   "outputs": [],
   "source": []
  }
 ],
 "metadata": {
  "kernelspec": {
   "display_name": "Python 3",
   "language": "python",
   "name": "python3"
  },
  "language_info": {
   "codemirror_mode": {
    "name": "ipython",
    "version": 3
   },
   "file_extension": ".py",
   "mimetype": "text/x-python",
   "name": "python",
   "nbconvert_exporter": "python",
   "pygments_lexer": "ipython3",
   "version": "3.6.1"
  }
 },
 "nbformat": 4,
 "nbformat_minor": 2
}
