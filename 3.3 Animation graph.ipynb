{
 "cells": [
  {
   "cell_type": "markdown",
   "metadata": {},
   "source": [
    "추가중\n",
    "\n",
    "## 움직이는 그래프\n",
    "우리가 지금까지 그린 그래프는 사진처럼 멈춰있었다.\n",
    "\n",
    "sine 함수나 cosine함수가 진행하는걸 보고 싶다면? 파동함수가 진행하는 것을 보고 싶다면???\n",
    "\n",
    "다행히도 MatPlotLib에는 그래프가 움직이도록 만들어주는 라이브러리도 있다.\n",
    "\n",
    "## 3.3.0 FFmpeg 설치\n",
    "움직이는 그래프는 동영상을 만드는것이므로 동영상을 만들어줄 FFmgeg라는 인코더가 필요하다.\n",
    "\n",
    "설치법은 아래 사이트에서 확인하자.\n",
    "\n",
    "https://www.wikihow.com/Install-FFmpeg-on-Windows\n",
    "\n",
    "## 3.3.1 움직이는 동영상 만들기\n",
    "\n",
    "FFmpeg 설치를 완료했다면, sin함수가 진행하는 그래프를 동영상으로 만들어 보자"
   ]
  },
  {
   "cell_type": "code",
   "execution_count": null,
   "metadata": {
    "collapsed": true
   },
   "outputs": [],
   "source": []
  },
  {
   "cell_type": "markdown",
   "metadata": {},
   "source": [
    "1.Matplotlib Animation Tutorial\n",
    "\n",
    "https://matplotlib.org/examples/animation/index.html\n",
    "\n",
    "https://jakevdp.github.io/blog/2012/08/18/matplotlib-animation-tutorial/\n"
   ]
  },
  {
   "cell_type": "code",
   "execution_count": null,
   "metadata": {
    "collapsed": true
   },
   "outputs": [],
   "source": []
  }
 ],
 "metadata": {
  "kernelspec": {
   "display_name": "Python 3",
   "language": "python",
   "name": "python3"
  },
  "language_info": {
   "codemirror_mode": {
    "name": "ipython",
    "version": 3
   },
   "file_extension": ".py",
   "mimetype": "text/x-python",
   "name": "python",
   "nbconvert_exporter": "python",
   "pygments_lexer": "ipython3",
   "version": "3.6.3"
  }
 },
 "nbformat": 4,
 "nbformat_minor": 2
}
