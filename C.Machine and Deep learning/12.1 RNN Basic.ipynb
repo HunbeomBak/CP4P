{
 "cells": [
  {
   "cell_type": "code",
   "execution_count": 79,
   "metadata": {
    "collapsed": true
   },
   "outputs": [],
   "source": [
    "import tensorflow as tf\n",
    "import numpy as np\n",
    "import pprint\n",
    "tf.reset_default_graph()"
   ]
  },
  {
   "cell_type": "markdown",
   "metadata": {},
   "source": [
    "## One node: 4 (input-dim) in 2 (hidden_size)\n",
    "\n",
    "x데이터를 넣고 어떤 결과가 나온느지 살펴보자\n",
    "\n",
    "문자를 벡터를 표현하는 가장 좋은 방법은 One hot encoding이다"
   ]
  },
  {
   "cell_type": "code",
   "execution_count": 80,
   "metadata": {},
   "outputs": [
    {
     "name": "stdout",
     "output_type": "stream",
     "text": [
      "(1, 1, 4)\n"
     ]
    }
   ],
   "source": [
    "h=[1,0,0,0]\n",
    "e=[0,1,0,0]\n",
    "l=[0,0,1,0]\n",
    "o=[0,0,0,1]\n",
    "\n",
    "x_data=np.array([[[1,0,0,0]]],dtype=np.float32)\n",
    "\n",
    "print(x_data.shape)"
   ]
  },
  {
   "cell_type": "markdown",
   "metadata": {},
   "source": [
    "RNN이 기존 뉴럴넷과 다른 점은 RNN의 아웃풋이 다른 cell과 이어진다.\n",
    "\n",
    "이때 cell에서 나가는 아웃풋(출력)의 크기인 hidden size또는 num_unit을 정해준다. \n",
    "\n",
    "이때 크기는 우리 마음대로 정해줄 수 있다."
   ]
  },
  {
   "cell_type": "code",
   "execution_count": 81,
   "metadata": {
    "collapsed": true
   },
   "outputs": [],
   "source": [
    "hidden_size = 2\n",
    "cell = tf.contrib.rnn.BasicRNNCell(num_units=hidden_size)"
   ]
  },
  {
   "cell_type": "markdown",
   "metadata": {},
   "source": [
    "cell 만든것을 구동시켜 입력을 주고 출력값을 뽑아냄\n",
    "\n",
    "그러기 위해 드라이브 (dynamic 함수)를 이용해 우리가 만든 cell과 데이터(x_data)를 입력시켜준다.\n",
    "\n",
    "그러면 드라이브 함수는 output과 마지막 state의 값을 출력한다."
   ]
  },
  {
   "cell_type": "code",
   "execution_count": 82,
   "metadata": {
    "collapsed": true
   },
   "outputs": [],
   "source": [
    "outputs, _states= tf.nn.dynamic_rnn(cell,x_data, dtype=tf.float32)"
   ]
  },
  {
   "cell_type": "markdown",
   "metadata": {},
   "source": [
    "cell을 생성시킬때 우리가 원하는 셀을 만들 수 있음\n",
    "\n",
    "cell = tf.contrib.rnn.BasicLSTMcell(num_units=hiddent_size)\n",
    "\n",
    "rnn이 어떤 output을 출력하는지 확인해 보자"
   ]
  },
  {
   "cell_type": "code",
   "execution_count": 83,
   "metadata": {
    "collapsed": true
   },
   "outputs": [],
   "source": [
    "sess = tf.InteractiveSession()\n",
    "sess.run(tf.global_variables_initializer())"
   ]
  },
  {
   "cell_type": "markdown",
   "metadata": {},
   "source": [
    "아웃풋을 evaluation 하는 방법으로 출력을 해본다."
   ]
  },
  {
   "cell_type": "code",
   "execution_count": 84,
   "metadata": {},
   "outputs": [
    {
     "name": "stdout",
     "output_type": "stream",
     "text": [
      "array([[[-0.15228143, -0.54341471]]], dtype=float32)\n"
     ]
    }
   ],
   "source": [
    "pp = pprint.PrettyPrinter(indent=4)\n",
    "pp.pprint(outputs.eval())"
   ]
  },
  {
   "cell_type": "markdown",
   "metadata": {},
   "source": [
    "hidden_size를 2개로 잡아서 2개 나왔다.\n",
    "\n",
    "나온 값은 원래 학습해야하지만 초기에는 랜덤하게 주어지기 때문에 저렇게 나온 것이다."
   ]
  },
  {
   "cell_type": "markdown",
   "metadata": {},
   "source": [
    "## Unfolding to n sequences"
   ]
  },
  {
   "cell_type": "markdown",
   "metadata": {},
   "source": [
    "sequences 데이터는 3D 데이터를 몇개를 받을 것인가? = 즉, cell을 몇번 펴칠것인가? = sequence_length\n",
    "\n",
    "입력데이터의 모양에 따라 결정된다.\n",
    "\n",
    "마찬가지로 hidden_size는 2개로 하자"
   ]
  },
  {
   "cell_type": "code",
   "execution_count": 85,
   "metadata": {},
   "outputs": [
    {
     "name": "stdout",
     "output_type": "stream",
     "text": [
      "(1, 5, 4)\n",
      "array([[[ 1.,  0.,  0.,  0.],\n",
      "        [ 0.,  1.,  0.,  0.],\n",
      "        [ 0.,  0.,  1.,  0.],\n",
      "        [ 0.,  0.,  1.,  0.],\n",
      "        [ 0.,  0.,  0.,  1.]]], dtype=float32)\n"
     ]
    }
   ],
   "source": [
    "hidden_size=2\n",
    "cell=tf.contrib.rnn.BasicLSTMCell(num_units=hidden_size)\n",
    "x_data = np.array([[h,e,l,l,o]],dtype=np.float32)\n",
    "print(x_data.shape)\n",
    "pp.pprint(x_data)"
   ]
  },
  {
   "cell_type": "markdown",
   "metadata": {},
   "source": [
    "여기서 5가 sequence_length이고 cell을 5번 펼친다는 (5번 돈다)라는 것이다.\n",
    "\n",
    "x_data를 5개 받기 때문이다.\n",
    "\n",
    "rnn의 cell이 어떤 결과를 내는지 확인해보자."
   ]
  },
  {
   "cell_type": "code",
   "execution_count": 86,
   "metadata": {},
   "outputs": [
    {
     "name": "stdout",
     "output_type": "stream",
     "text": [
      "(1, 5, 2)\n",
      "array([[[ 0.18433517, -0.10750349],\n",
      "        [-0.03479795, -0.04428365],\n",
      "        [ 0.00871665, -0.05401073],\n",
      "        [ 0.03309646, -0.07108718],\n",
      "        [ 0.02116945, -0.01878442]]], dtype=float32)\n"
     ]
    }
   ],
   "source": [
    "outputs, _states=tf.nn.dynamic_rnn(cell,x_data, dtype=tf.float32)\n",
    "sess = tf.InteractiveSession()\n",
    "sess.run(tf.global_variables_initializer())\n",
    "print(outputs.shape)\n",
    "pp.pprint(outputs.eval())"
   ]
  },
  {
   "cell_type": "markdown",
   "metadata": {},
   "source": [
    "hidden_size=2, sequence_length는 5여서 (1,5,2)의 모양을 출력한다."
   ]
  },
  {
   "cell_type": "markdown",
   "metadata": {},
   "source": [
    "## Batching input\n",
    "\n",
    "학습을 시킬때 몇개의 문자열을 주는가 = batch size\n"
   ]
  },
  {
   "cell_type": "code",
   "execution_count": 91,
   "metadata": {
    "collapsed": true
   },
   "outputs": [],
   "source": [
    "tf.reset_default_graph()"
   ]
  },
  {
   "cell_type": "markdown",
   "metadata": {},
   "source": [
    "이것은 위에서 이미 만들어놓은 그래프가 아래 그래프를 실행하는데 영향을 줄 수 있다,\n",
    "\n",
    "따라서 텐서플로우 그래프를 모두 초기화 시켜주는 것이다."
   ]
  },
  {
   "cell_type": "code",
   "execution_count": 92,
   "metadata": {
    "collapsed": true
   },
   "outputs": [],
   "source": [
    "x_data = np.array([[h, e, l, l, o],\n",
    "                       [e, o, l, l, l],\n",
    "                       [l, l, e, e, l]], dtype=np.float32)"
   ]
  },
  {
   "cell_type": "markdown",
   "metadata": {},
   "source": [
    "이렇게 되면 hidden_size=2, 각 각 다섯 글자 이므로 sequence_lengh=5, 3개의 문자열이므로 batch_size는 3이 된다."
   ]
  },
  {
   "cell_type": "code",
   "execution_count": 93,
   "metadata": {},
   "outputs": [
    {
     "name": "stdout",
     "output_type": "stream",
     "text": [
      "array([[[ 1.,  0.,  0.,  0.],\n",
      "        [ 0.,  1.,  0.,  0.],\n",
      "        [ 0.,  0.,  1.,  0.],\n",
      "        [ 0.,  0.,  1.,  0.],\n",
      "        [ 0.,  0.,  0.,  1.]],\n",
      "\n",
      "       [[ 0.,  1.,  0.,  0.],\n",
      "        [ 0.,  0.,  0.,  1.],\n",
      "        [ 0.,  0.,  1.,  0.],\n",
      "        [ 0.,  0.,  1.,  0.],\n",
      "        [ 0.,  0.,  1.,  0.]],\n",
      "\n",
      "       [[ 0.,  0.,  1.,  0.],\n",
      "        [ 0.,  0.,  1.,  0.],\n",
      "        [ 0.,  1.,  0.,  0.],\n",
      "        [ 0.,  1.,  0.,  0.],\n",
      "        [ 0.,  0.,  1.,  0.]]], dtype=float32)\n",
      "(3, 5, 4)\n"
     ]
    }
   ],
   "source": [
    "pp.pprint(x_data)\n",
    "print(x_data.shape)\n",
    "\n",
    "cell= tf.contrib.rnn.BasicLSTMCell(num_units=2, state_is_tuple=True)"
   ]
  },
  {
   "cell_type": "markdown",
   "metadata": {},
   "source": [
    "예상대로 3,5,4 가 출력됐다.\n",
    "\n",
    "이제 rnn이 어떤 값을 출력하는지 확인해 보자"
   ]
  },
  {
   "cell_type": "code",
   "execution_count": 95,
   "metadata": {},
   "outputs": [
    {
     "name": "stdout",
     "output_type": "stream",
     "text": [
      "(3, 5, 2)\n",
      "array([[[-0.0268018 , -0.0108459 ],\n",
      "        [-0.14019839,  0.08100206],\n",
      "        [ 0.0161913 ,  0.12757392],\n",
      "        [ 0.15328567,  0.16453341],\n",
      "        [ 0.14175221,  0.0649204 ]],\n",
      "\n",
      "       [[-0.11882194,  0.0909019 ],\n",
      "        [-0.09527053, -0.02603546],\n",
      "        [ 0.05221596,  0.06715646],\n",
      "        [ 0.17462224,  0.12854126],\n",
      "        [ 0.26567948,  0.16912252]],\n",
      "\n",
      "       [[ 0.13037582,  0.08598506],\n",
      "        [ 0.2315612 ,  0.14219324],\n",
      "        [ 0.02734536,  0.1828312 ],\n",
      "        [-0.11041081,  0.20763998],\n",
      "        [ 0.05363417,  0.20751837]]], dtype=float32)\n"
     ]
    }
   ],
   "source": [
    "outputs, _states=tf.nn.dynamic_rnn(cell,x_data,dtype=tf.float32)\n",
    "sess = tf.InteractiveSession()\n",
    "sess.run(tf.global_variables_initializer())\n",
    "print(outputs.shape)\n",
    "pp.pprint(outputs.eval())"
   ]
  },
  {
   "cell_type": "markdown",
   "metadata": {},
   "source": [
    "모양은 예상한대로 3,5,2의 모양으로 나왔다."
   ]
  },
  {
   "cell_type": "markdown",
   "metadata": {},
   "source": [
    "## 참고사이트\n",
    "1. https://www.youtube.com/watch?v=B5GtZuUvujQ&list=PLlMkM4tgfjnLSOjrEJN31gZATbcj_MpUm&index=42\n",
    "2. https://github.com/hunkim/DeepLearningZeroToAll/blob/master/lab-12-0-rnn_basics.ipynb"
   ]
  }
 ],
 "metadata": {
  "kernelspec": {
   "display_name": "Python 3",
   "language": "python",
   "name": "python3"
  },
  "language_info": {
   "codemirror_mode": {
    "name": "ipython",
    "version": 3
   },
   "file_extension": ".py",
   "mimetype": "text/x-python",
   "name": "python",
   "nbconvert_exporter": "python",
   "pygments_lexer": "ipython3",
   "version": "3.6.3"
  }
 },
 "nbformat": 4,
 "nbformat_minor": 2
}
