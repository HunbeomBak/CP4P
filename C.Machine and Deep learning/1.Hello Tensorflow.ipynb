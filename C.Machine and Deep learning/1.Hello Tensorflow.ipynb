{
 "cells": [
  {
   "cell_type": "code",
   "execution_count": 2,
   "metadata": {
    "collapsed": true
   },
   "outputs": [],
   "source": [
    "import tensorflow as tf"
   ]
  },
  {
   "cell_type": "markdown",
   "metadata": {},
   "source": [
    "## Hello Tensorflow\n",
    "\n",
    "프로그래밍을 공부할때 Hello world를 출력하듯이\n",
    "\n",
    "Hello tensorflow를 출력해보자\n",
    "\n",
    "텐서플로우는 computational graph를 그린다. \n",
    "\n",
    "문자를 출력하기 위해 문자를 하나의 상수로 취급하는 노드를 만들자\n",
    "\n"
   ]
  },
  {
   "cell_type": "code",
   "execution_count": 3,
   "metadata": {
    "collapsed": true
   },
   "outputs": [],
   "source": [
    "hello = tf.constant(\"Hello, TensorFlow!\")"
   ]
  },
  {
   "cell_type": "markdown",
   "metadata": {},
   "source": [
    "이 그래프를 실행하기 위해서는 session을 만들어 줘야한다."
   ]
  },
  {
   "cell_type": "code",
   "execution_count": 4,
   "metadata": {
    "collapsed": true
   },
   "outputs": [],
   "source": [
    "sess=tf.Session()"
   ]
  },
  {
   "cell_type": "markdown",
   "metadata": {},
   "source": [
    "sess.run으로 실행하면 된다."
   ]
  },
  {
   "cell_type": "code",
   "execution_count": 6,
   "metadata": {},
   "outputs": [
    {
     "name": "stdout",
     "output_type": "stream",
     "text": [
      "b'Hello, TensorFlow!'\n"
     ]
    }
   ],
   "source": [
    "print(sess.run(hello))"
   ]
  },
  {
   "cell_type": "markdown",
   "metadata": {},
   "source": [
    "b는 string byte라는 의미로 무시해도 된다.\n",
    "\n",
    "이번에는 간단하게 사칙연산을 해보자.\n",
    "\n",
    "그러기 위해 더하기에 관한 그래프를 만들어 보자"
   ]
  },
  {
   "cell_type": "code",
   "execution_count": 15,
   "metadata": {},
   "outputs": [
    {
     "name": "stdout",
     "output_type": "stream",
     "text": [
      "node1: Tensor(\"Const_6:0\", shape=(), dtype=float32) node2: Tensor(\"Const_7:0\", shape=(), dtype=float32)\n",
      "node3: Tensor(\"Add_2:0\", shape=(), dtype=float32)\n"
     ]
    }
   ],
   "source": [
    "node1= tf.constant(3.0, tf.float32)\n",
    "node2= tf.constant(4.0)\n",
    "node3 = tf.add(node1,node2)\n",
    "\n",
    "print(\"node1:\",node1, \"node2:\",node2)\n",
    "print(\"node3:\",node3)"
   ]
  },
  {
   "cell_type": "markdown",
   "metadata": {},
   "source": [
    "그냥 출력하면 그래프의 요소(Tensor)라고만 뜰뿐, 결과값이 나오지 않는다.\n"
   ]
  },
  {
   "cell_type": "code",
   "execution_count": 16,
   "metadata": {},
   "outputs": [
    {
     "name": "stdout",
     "output_type": "stream",
     "text": [
      "sess.run(node1,node2): [3.0, 4.0]\n",
      "sess.run(node3): 7.0\n"
     ]
    }
   ],
   "source": [
    "sess= tf.Session()\n",
    "print(\"sess.run(node1,node2):\",sess.run([node1,node2]))\n",
    "print(\"sess.run(node3):\",sess.run(node3))"
   ]
  },
  {
   "cell_type": "markdown",
   "metadata": {},
   "source": [
    "따라서 텐서플로우를 사용할때는\n",
    "사용할 그래프를 만들고 sess.run으로 실행시켜야 결과값을 얻을 수 있다."
   ]
  },
  {
   "cell_type": "markdown",
   "metadata": {},
   "source": [
    "## Placeholder\n",
    "\n",
    "특별한 노드를 만들어서 실행할때마다 값을 넣어 줄 수 있다."
   ]
  },
  {
   "cell_type": "code",
   "execution_count": 24,
   "metadata": {},
   "outputs": [
    {
     "name": "stdout",
     "output_type": "stream",
     "text": [
      "7.5\n",
      "[ 3.  7.]\n"
     ]
    }
   ],
   "source": [
    "a=tf.placeholder(tf.float32)\n",
    "b=tf.placeholder(tf.float32)\n",
    "adder_node = a+ b\n",
    "\n",
    "print(sess.run(adder_node, feed_dict={a:3,b:4.5}))\n",
    "print(sess.run(adder_node, feed_dict={a:[1,3],b:[2,4]}))"
   ]
  },
  {
   "cell_type": "markdown",
   "metadata": {},
   "source": [
    "placeholder라는 노드에 값을 넣어줄려면 feed-dict={}에 넣어주면 된다."
   ]
  },
  {
   "cell_type": "markdown",
   "metadata": {},
   "source": [
    "## Tensor\n",
    "\n",
    " 텐서플로우라는 이름답게 텐서를 사용한다.\n",
    " \n",
    " rank가 3부터는 텐서라고 한다."
   ]
  },
  {
   "cell_type": "markdown",
   "metadata": {},
   "source": [
    "3은 랭크가 0이고 모야잉[]인 스칼라이다."
   ]
  },
  {
   "cell_type": "markdown",
   "metadata": {},
   "source": [
    "[1. ,2., 3.]은 랭크가 1이며 모양이 [3]인 벡터라고 한다."
   ]
  },
  {
   "cell_type": "code",
   "execution_count": 28,
   "metadata": {},
   "outputs": [
    {
     "data": {
      "text/plain": [
       "[1.0, 2.0, 3.0]"
      ]
     },
     "execution_count": 28,
     "metadata": {},
     "output_type": "execute_result"
    }
   ],
   "source": [
    "[1. ,2., 3.] # a rank 1 tensor; this is a vector with shape [3]"
   ]
  },
  {
   "cell_type": "markdown",
   "metadata": {},
   "source": [
    "[[1., 2., 3.], [4., 5., 6.]] 은 랭크가 2이고 모양이 [2,3]인 벡터이다."
   ]
  },
  {
   "cell_type": "code",
   "execution_count": 30,
   "metadata": {},
   "outputs": [
    {
     "data": {
      "text/plain": [
       "[[1.0, 2.0, 3.0], [4.0, 5.0, 6.0]]"
      ]
     },
     "execution_count": 30,
     "metadata": {},
     "output_type": "execute_result"
    }
   ],
   "source": [
    "[[1., 2., 3.], [4., 5., 6.]] # a rank 2 tensor; a matrix with shape [2, 3]"
   ]
  },
  {
   "cell_type": "markdown",
   "metadata": {},
   "source": [
    "[[[1., 2., 3.]], [[7., 8., 9.]]]은 랭크가 3이고 모양이 [2,1,3]인 텐서이다."
   ]
  },
  {
   "cell_type": "code",
   "execution_count": 25,
   "metadata": {},
   "outputs": [
    {
     "data": {
      "text/plain": [
       "[[[1.0, 2.0, 3.0]], [[7.0, 8.0, 9.0]]]"
      ]
     },
     "execution_count": 25,
     "metadata": {},
     "output_type": "execute_result"
    }
   ],
   "source": [
    "[[[1., 2., 3.]], [[7., 8., 9.]]] # a rank 3 tensor with shape [2, 1, 3]"
   ]
  }
 ],
 "metadata": {
  "kernelspec": {
   "display_name": "Python 3",
   "language": "python",
   "name": "python3"
  },
  "language_info": {
   "codemirror_mode": {
    "name": "ipython",
    "version": 3
   },
   "file_extension": ".py",
   "mimetype": "text/x-python",
   "name": "python",
   "nbconvert_exporter": "python",
   "pygments_lexer": "ipython3",
   "version": "3.6.3"
  }
 },
 "nbformat": 4,
 "nbformat_minor": 2
}
