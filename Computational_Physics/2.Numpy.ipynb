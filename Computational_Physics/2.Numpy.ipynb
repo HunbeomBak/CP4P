{
 "cells": [
  {
   "cell_type": "markdown",
   "metadata": {},
   "source": [
    "# 2.Numpy\n",
    "\n",
    "파이썬버전: 3.6.0\n",
    "\n",
    "### 넘파이는 행렬 계산에 유용한 라이브러리이다."
   ]
  },
  {
   "cell_type": "markdown",
   "metadata": {},
   "source": [
    "## 2.0.0 라이브러리 불러오기\n",
    "파이썬의 장점은 수많은 라이브러리가 있다는 점이다.\n",
    "라이브러리가 있어서 텍스트 여러줄을 써야할것을 간편하게 한두줄로 줄일 수 있다."
   ]
  },
  {
   "cell_type": "code",
   "execution_count": 76,
   "metadata": {
    "collapsed": true
   },
   "outputs": [],
   "source": [
    "improt numpy as np"
   ]
  },
  {
   "cell_type": "markdown",
   "metadata": {},
   "source": [
    "위 코드로 numpy 코드를 불러왔다.\n",
    "\n",
    "numpy 라이브러리를 import하여 파이썬 코드를 작성할때 사용할 수 있게 한다.\n",
    "\n",
    "그리고 사용할 numpu 함수 앞에 np. 을 붙이면 된다.\n",
    "\n",
    "확인해 보기 위해 2x2 행렬을 넘파이로 만들어보자"
   ]
  },
  {
   "cell_type": "code",
   "execution_count": 14,
   "metadata": {},
   "outputs": [
    {
     "name": "stdout",
     "output_type": "stream",
     "text": [
      "[[1 2]\n",
      " [3 4]]\n"
     ]
    }
   ],
   "source": [
    "M=np.array([[1,2],[3,4]])\n",
    "print(M)"
   ]
  },
  {
   "cell_type": "markdown",
   "metadata": {},
   "source": [
    "만약 함수 앞에 np. 붙이는것이 귀찮다면 'from numpy import * ' 로 입력해주면 된다."
   ]
  },
  {
   "cell_type": "code",
   "execution_count": 65,
   "metadata": {},
   "outputs": [
    {
     "name": "stdout",
     "output_type": "stream",
     "text": [
      "M= [[1 2]\n",
      " [3 4]]\n"
     ]
    }
   ],
   "source": [
    "from numpy import *\n",
    "M=np.array([[1,2],[3,4]])\n",
    "print('M=',M)"
   ]
  },
  {
   "cell_type": "markdown",
   "metadata": {},
   "source": [
    "### 예제:  다음의 sin값들을 계산하라\n",
    "pi/6, pi/5, pi/4, pi/3, pi/2\n",
    "\n"
   ]
  },
  {
   "cell_type": "code",
   "execution_count": 57,
   "metadata": {},
   "outputs": [
    {
     "name": "stdout",
     "output_type": "stream",
     "text": [
      "[ 0.5         0.58778525  0.58778525  0.8660254   1.        ]\n"
     ]
    }
   ],
   "source": [
    "x= array([pi/6,pi/5,pi/5,pi/3,pi/2])       #pi는 numpy에서 자동으로 3.14로 불러와진다.\n",
    "print(sin(x))"
   ]
  },
  {
   "cell_type": "markdown",
   "metadata": {},
   "source": [
    "## 2.1 행렬\n",
    "\n",
    "행렬과 관련된 파이썬 코드를 알아보자\n",
    "\n",
    "### 1.행렬의 정수배"
   ]
  },
  {
   "cell_type": "code",
   "execution_count": 24,
   "metadata": {},
   "outputs": [
    {
     "name": "stdout",
     "output_type": "stream",
     "text": [
      "[[ 3  6]\n",
      " [ 9 12]]\n"
     ]
    }
   ],
   "source": [
    "print(M*3)"
   ]
  },
  {
   "cell_type": "markdown",
   "metadata": {},
   "source": [
    "행렬의 정수배는 원하는 행렬 앞에 숫자를 곱해주면 된다.\n",
    "\n",
    "### 2.행렬의 덧셈"
   ]
  },
  {
   "cell_type": "code",
   "execution_count": 66,
   "metadata": {},
   "outputs": [
    {
     "name": "stdout",
     "output_type": "stream",
     "text": [
      "[[2 4]\n",
      " [6 8]]\n"
     ]
    }
   ],
   "source": [
    "print(M+M)"
   ]
  },
  {
   "cell_type": "markdown",
   "metadata": {},
   "source": [
    "### 3.행렬의 곱셈"
   ]
  },
  {
   "cell_type": "code",
   "execution_count": 67,
   "metadata": {},
   "outputs": [
    {
     "name": "stdout",
     "output_type": "stream",
     "text": [
      "[[ 1  4]\n",
      " [ 9 16]]\n"
     ]
    }
   ],
   "source": [
    "print(M*M)"
   ]
  },
  {
   "cell_type": "markdown",
   "metadata": {},
   "source": [
    "여기서 곱셈은 dot product나 cross product가 아니라 같은 위치의 원소끼리 곱하는 것이다.\n",
    "\n",
    "### 4.cross product (벡터 곱)"
   ]
  },
  {
   "cell_type": "code",
   "execution_count": 32,
   "metadata": {},
   "outputs": [
    {
     "name": "stdout",
     "output_type": "stream",
     "text": [
      "[0 0]\n"
     ]
    }
   ],
   "source": [
    "print(cross(M,M))"
   ]
  },
  {
   "cell_type": "markdown",
   "metadata": {},
   "source": [
    "### 5.dot product( 스칼라 곱)"
   ]
  },
  {
   "cell_type": "code",
   "execution_count": 38,
   "metadata": {},
   "outputs": [
    {
     "name": "stdout",
     "output_type": "stream",
     "text": [
      "[[ 7 10]\n",
      " [15 22]]\n"
     ]
    }
   ],
   "source": [
    "print(dot(M,M))"
   ]
  },
  {
   "cell_type": "markdown",
   "metadata": {},
   "source": [
    "### 6.전치행렬(Transpose)"
   ]
  },
  {
   "cell_type": "code",
   "execution_count": 39,
   "metadata": {},
   "outputs": [
    {
     "name": "stdout",
     "output_type": "stream",
     "text": [
      "[[1 3]\n",
      " [2 4]]\n"
     ]
    }
   ],
   "source": [
    "print(transpose(M))"
   ]
  },
  {
   "cell_type": "markdown",
   "metadata": {},
   "source": [
    "역행렬, 고유치, 고유벡터, 그리고 행렬을 이용해 연립방정식을 푸는 선형대수적 문제들은 추가적으로 numpy.linalg을 불러와야 한다. "
   ]
  },
  {
   "cell_type": "code",
   "execution_count": 40,
   "metadata": {
    "collapsed": true
   },
   "outputs": [],
   "source": [
    "from numpy.linalg import*"
   ]
  },
  {
   "cell_type": "markdown",
   "metadata": {},
   "source": [
    "### 7.역행렬"
   ]
  },
  {
   "cell_type": "code",
   "execution_count": 43,
   "metadata": {},
   "outputs": [
    {
     "name": "stdout",
     "output_type": "stream",
     "text": [
      "[[-2.   1. ]\n",
      " [ 1.5 -0.5]]\n"
     ]
    }
   ],
   "source": [
    "print(inv(M))"
   ]
  },
  {
   "cell_type": "markdown",
   "metadata": {},
   "source": [
    "### 8.디터미넌트"
   ]
  },
  {
   "cell_type": "code",
   "execution_count": 45,
   "metadata": {},
   "outputs": [
    {
     "name": "stdout",
     "output_type": "stream",
     "text": [
      "-2.0\n"
     ]
    }
   ],
   "source": [
    "print(det(M))"
   ]
  },
  {
   "cell_type": "markdown",
   "metadata": {},
   "source": [
    "### 9.고유값,고유벡터"
   ]
  },
  {
   "cell_type": "code",
   "execution_count": 50,
   "metadata": {},
   "outputs": [
    {
     "name": "stdout",
     "output_type": "stream",
     "text": [
      "(array([-0.37228132,  5.37228132]), array([[-0.82456484, -0.41597356],\n",
      "       [ 0.56576746, -0.90937671]]))\n"
     ]
    }
   ],
   "source": [
    "print(eig(M))"
   ]
  },
  {
   "cell_type": "markdown",
   "metadata": {},
   "source": [
    "array가 두개 출력 되는데 앞에 array 가 고유값, 뒤의 array가 고유값에 따른 고유벡터들이다."
   ]
  },
  {
   "attachments": {
    "M1.PNG": {
     "image/png": "[encoded data removed]"
    },
    "M3.PNG": {
     "image/png": "[encoded data removed]"
    },
    "image.png": {
     "image/png": "[encoded data removed]"
    }
   },
   "cell_type": "markdown",
   "metadata": {},
   "source": [
    "### 10.연립방정식계산하기\n",
    "\n",
    "아래와 같은 연립방정식이 있다.\n",
    "![M1.PNG](attachment:M1.PNG)\n",
    "\n",
    "이것을 행렬로 나타내면 아래와 같다.\n",
    "![image.png](attachment:image.png)\n",
    "왼쪽 계수행렬을 M, 미지수를 x, 결과를 b로 놓은다면 우리는 아래의 식을 푸는 것이다.\n",
    "![M3.PNG](attachment:M3.PNG)\n",
    "\n",
    "이제 파이썬으로 풀어보자"
   ]
  },
  {
   "cell_type": "code",
   "execution_count": 74,
   "metadata": {},
   "outputs": [
    {
     "name": "stdout",
     "output_type": "stream",
     "text": [
      "[ 1.  2.  3.  4.]\n"
     ]
    }
   ],
   "source": [
    "M = array ( [ [ 1 , 3 , -5 , 2 ] , [ 0 , 4 , -2 , 1 ] , [2 , -1 ,3 , -1] , [ 1 , 1 , 1 , 1 ] ] )\n",
    "b = array ( [ 0 , 6 , 5 , 10 ] )\n",
    "x = linalg.solve(M, b)\n",
    "print(x)"
   ]
  },
  {
   "cell_type": "markdown",
   "metadata": {},
   "source": [
    "우리는 이제 연립방정식을 해로 나타내서 간단하게 풀 수 있다.\n",
    "\n",
    "### 예제: 키르히 호프 법칙"
   ]
  },
  {
   "cell_type": "code",
   "execution_count": 77,
   "metadata": {},
   "outputs": [
    {
     "name": "stdout",
     "output_type": "stream",
     "text": [
      "X= [-0.28624535  0.81040892 -0.08550186]\n"
     ]
    }
   ],
   "source": [
    "A= np.array([[-13,2,4],[2,-11,6],[4,6,-15]])\n",
    "B=np.array([5,-10,5])\n",
    "print('X=',np.linalg.solve(A,B)) "
   ]
  },
  {
   "cell_type": "markdown",
   "metadata": {},
   "source": [
    "## 2.2 그외 함수\n",
    "넘파이에서 행렬의 성질 이외에 함수를 알아보자\n",
    "\n",
    "### 1.arange(a,b,c)\n",
    "\n",
    "a부터 b미만의 숫자를 c간격으로 생성한다\n",
    "\n",
    "간단하게 '0부터 1까지 0.25 간격으로 생성해보자"
   ]
  },
  {
   "cell_type": "code",
   "execution_count": 70,
   "metadata": {},
   "outputs": [
    {
     "name": "stdout",
     "output_type": "stream",
     "text": [
      "[ 0.    0.25  0.5   0.75]\n"
     ]
    }
   ],
   "source": [
    "print (arange ( 0 , 1 , 0.25 ))"
   ]
  },
  {
   "cell_type": "markdown",
   "metadata": {},
   "source": [
    "1미만이기 때문에 1은 포함되지 않는다. \n",
    "1도 포함하고 싶다면 아래처럼 쓰면 된다."
   ]
  },
  {
   "cell_type": "code",
   "execution_count": 71,
   "metadata": {},
   "outputs": [
    {
     "name": "stdout",
     "output_type": "stream",
     "text": [
      "[ 0.    0.25  0.5   0.75  1.  ]\n"
     ]
    }
   ],
   "source": [
    "print (arange ( 0 , 1.01 , 0.25 ))"
   ]
  },
  {
   "cell_type": "markdown",
   "metadata": {},
   "source": [
    "### 2.logspace(a,b,c)\n",
    "\n",
    "logspace는 상용로그를 나열한다고 생각하면된다.\n",
    "\n",
    "간단한 예시로 알아보자\n"
   ]
  },
  {
   "cell_type": "code",
   "execution_count": 72,
   "metadata": {},
   "outputs": [
    {
     "name": "stdout",
     "output_type": "stream",
     "text": [
      "[    1.    10.   100.  1000.]\n"
     ]
    }
   ],
   "source": [
    "print (logspace( 0 , 3 , 4))"
   ]
  },
  {
   "cell_type": "markdown",
   "metadata": {},
   "source": [
    "10의 0제곱부터 10의 3제곱까지 4개 나열했다.\n",
    "\n",
    "### 3.zeros\n",
    "\n",
    "영행렬을 생성한다. 이때 기본적으로는 int타입이지만 소수점을 원하면 type을 double로 해주면된다.\n",
    "\n",
    "2X3의 영행렬을 생성해보자"
   ]
  },
  {
   "cell_type": "code",
   "execution_count": 75,
   "metadata": {},
   "outputs": [
    {
     "name": "stdout",
     "output_type": "stream",
     "text": [
      "[[0 0 0]\n",
      " [0 0 0]]\n"
     ]
    }
   ],
   "source": [
    "print (zeros( [ 2 , 3 ],int ))"
   ]
  },
  {
   "cell_type": "markdown",
   "metadata": {},
   "source": [
    "그 외 함수들은 https://docs.scipy.org/doc/numpy-dev/user/quickstart.html 를 참고하면 된다."
   ]
  }
 ],
 "metadata": {
  "kernelspec": {
   "display_name": "Python 3",
   "language": "python",
   "name": "python3"
  },
  "language_info": {
   "codemirror_mode": {
    "name": "ipython",
    "version": 3
   },
   "file_extension": ".py",
   "mimetype": "text/x-python",
   "name": "python",
   "nbconvert_exporter": "python",
   "pygments_lexer": "ipython3",
   "version": "3.6.1"
  }
 },
 "nbformat": 4,
 "nbformat_minor": 2
}
